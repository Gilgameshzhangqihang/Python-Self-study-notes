{
 "cells": [
  {
   "cell_type": "code",
   "execution_count": 2,
   "id": "9173f6d5",
   "metadata": {},
   "outputs": [],
   "source": [
    "import numpy as np\n",
    "import tensorflow as tf "
   ]
  },
  {
   "cell_type": "code",
   "execution_count": 3,
   "id": "079fa1af",
   "metadata": {},
   "outputs": [
    {
     "data": {
      "text/plain": [
       "<tf.Tensor: shape=(), dtype=int32, numpy=1>"
      ]
     },
     "execution_count": 3,
     "metadata": {},
     "output_type": "execute_result"
    }
   ],
   "source": [
    "tf.constant(1)"
   ]
  },
  {
   "cell_type": "code",
   "execution_count": 4,
   "id": "0de2b102",
   "metadata": {},
   "outputs": [
    {
     "name": "stdout",
     "output_type": "stream",
     "text": [
      "tf.Tensor(4, shape=(), dtype=int32)\n",
      "tf.Tensor([2. 3. 4.], shape=(3,), dtype=float32)\n",
      "tf.Tensor(\n",
      "[[1. 2.]\n",
      " [3. 4.]\n",
      " [5. 6.]], shape=(3, 2), dtype=float16)\n",
      "tf.Tensor(\n",
      "[[[ 0.  1.  2.  3.  4.]\n",
      "  [ 5.  6.  7.  8.  9.]]\n",
      "\n",
      " [[10. 11. 12. 13. 14.]\n",
      "  [15. 16. 17. 18. 19.]]\n",
      "\n",
      " [[20. 21. 22. 23. 24.]\n",
      "  [25. 26. 27. 28. 29.]]], shape=(3, 2, 5), dtype=float32)\n"
     ]
    }
   ],
   "source": [
    "# 创建int32类型的0维张量，即标量\n",
    "rank_0_tensor = tf.constant(4)\n",
    "print(rank_0_tensor)\n",
    "# 创建float32类型的1维张量\n",
    "rank_1_tensor = tf.constant([2.0, 3.0, 4.0])\n",
    "print(rank_1_tensor)\n",
    "# 创建float16类型的⼆维张量\n",
    "rank_2_tensor = tf.constant([[1, 2],\n",
    " [3, 4],\n",
    " [5, 6]], dtype=tf.float16)\n",
    "print(rank_2_tensor)\n",
    "# 创建float32类型的张量\n",
    "rank_3_tensor = tf.constant([\n",
    " [[0, 1, 2, 3, 4],\n",
    " [5, 6, 7, 8, 9]],\n",
    " [[10, 11, 12, 13, 14],\n",
    " [15, 16, 17, 18, 19]],\n",
    " [[20, 21, 22, 23, 24],\n",
    " [25, 26, 27, 28, 29]],], dtype=tf.float32)\n",
    "print(rank_3_tensor)"
   ]
  },
  {
   "cell_type": "markdown",
   "id": "a96725f3",
   "metadata": {},
   "source": [
    "#转换成numpy"
   ]
  },
  {
   "cell_type": "code",
   "execution_count": 5,
   "id": "e978f217",
   "metadata": {},
   "outputs": [],
   "source": [
    "tensor1=tf.constant([1,23,48,5649])"
   ]
  },
  {
   "cell_type": "code",
   "execution_count": 6,
   "id": "529ca0d7",
   "metadata": {},
   "outputs": [
    {
     "data": {
      "text/plain": [
       "<tf.Tensor: shape=(4,), dtype=int32, numpy=array([   1,   23,   48, 5649])>"
      ]
     },
     "execution_count": 6,
     "metadata": {},
     "output_type": "execute_result"
    }
   ],
   "source": [
    "tensor1"
   ]
  },
  {
   "cell_type": "code",
   "execution_count": 7,
   "id": "85293a7b",
   "metadata": {},
   "outputs": [
    {
     "data": {
      "text/plain": [
       "array([   1,   23,   48, 5649])"
      ]
     },
     "execution_count": 7,
     "metadata": {},
     "output_type": "execute_result"
    }
   ],
   "source": [
    "tensor1.numpy()"
   ]
  },
  {
   "cell_type": "markdown",
   "id": "a28bc8d0",
   "metadata": {},
   "source": [
    "#常用函数"
   ]
  },
  {
   "cell_type": "code",
   "execution_count": 8,
   "id": "04d80e86",
   "metadata": {},
   "outputs": [
    {
     "name": "stdout",
     "output_type": "stream",
     "text": [
      "tf.Tensor(\n",
      "[[2 3]\n",
      " [4 5]], shape=(2, 2), dtype=int32) \n",
      "\n",
      "tf.Tensor(\n",
      "[[1 2]\n",
      " [3 4]], shape=(2, 2), dtype=int32) \n",
      "\n",
      "tf.Tensor(\n",
      "[[3 3]\n",
      " [7 7]], shape=(2, 2), dtype=int32) \n",
      "\n"
     ]
    }
   ],
   "source": [
    "# 定义张量a和b\n",
    "a = tf.constant([[1, 2],\n",
    " [3, 4]])\n",
    "b = tf.constant([[1, 1],\n",
    " [1, 1]]) \n",
    "print(tf.add(a, b), \"\\n\") # 计算张量的和\n",
    "print(tf.multiply(a, b), \"\\n\") # 计算张量的元素乘法\n",
    "print(tf.matmul(a, b), \"\\n\") # 计算乘法\n"
   ]
  },
  {
   "cell_type": "code",
   "execution_count": 9,
   "id": "a142b120",
   "metadata": {},
   "outputs": [
    {
     "data": {
      "text/plain": [
       "<tf.Tensor: shape=(3, 3), dtype=int32, numpy=\n",
       "array([[1, 2, 3],\n",
       "       [4, 5, 6],\n",
       "       [7, 8, 9]])>"
      ]
     },
     "execution_count": 9,
     "metadata": {},
     "output_type": "execute_result"
    }
   ],
   "source": [
    "c=tf.constant([[1,2,3],\n",
    "               [4,5,6],\n",
    "               [7,8,9]])\n",
    "c"
   ]
  },
  {
   "cell_type": "code",
   "execution_count": 10,
   "id": "da468e69",
   "metadata": {},
   "outputs": [
    {
     "data": {
      "text/plain": [
       "<tf.Tensor: shape=(), dtype=int32, numpy=9>"
      ]
     },
     "execution_count": 10,
     "metadata": {},
     "output_type": "execute_result"
    }
   ],
   "source": [
    "#最大值\n",
    "tf.reduce_max(c)"
   ]
  },
  {
   "cell_type": "code",
   "execution_count": 12,
   "id": "42325725",
   "metadata": {},
   "outputs": [],
   "source": [
    "#变量\n",
    "var=tf.Variable([[1,2,3],[4,5,6]])"
   ]
  },
  {
   "cell_type": "code",
   "execution_count": 13,
   "id": "7cafb810",
   "metadata": {},
   "outputs": [
    {
     "data": {
      "text/plain": [
       "<tf.Variable 'Variable:0' shape=(2, 3) dtype=int32, numpy=\n",
       "array([[1, 2, 3],\n",
       "       [4, 5, 6]])>"
      ]
     },
     "execution_count": 13,
     "metadata": {},
     "output_type": "execute_result"
    }
   ],
   "source": [
    "var"
   ]
  },
  {
   "cell_type": "code",
   "execution_count": 14,
   "id": "64e8994a",
   "metadata": {},
   "outputs": [
    {
     "data": {
      "text/plain": [
       "TensorShape([2, 3])"
      ]
     },
     "execution_count": 14,
     "metadata": {},
     "output_type": "execute_result"
    }
   ],
   "source": [
    "var.shape"
   ]
  },
  {
   "cell_type": "code",
   "execution_count": 15,
   "id": "5261fc76",
   "metadata": {},
   "outputs": [
    {
     "data": {
      "text/plain": [
       "array([[1, 2, 3],\n",
       "       [4, 5, 6]])"
      ]
     },
     "execution_count": 15,
     "metadata": {},
     "output_type": "execute_result"
    }
   ],
   "source": [
    "var.numpy()"
   ]
  },
  {
   "cell_type": "code",
   "execution_count": 16,
   "id": "475f91b7",
   "metadata": {},
   "outputs": [
    {
     "data": {
      "text/plain": [
       "<tf.Variable 'UnreadVariable' shape=(2, 3) dtype=int32, numpy=\n",
       "array([[4, 5, 6],\n",
       "       [7, 8, 9]])>"
      ]
     },
     "execution_count": 16,
     "metadata": {},
     "output_type": "execute_result"
    }
   ],
   "source": [
    "var.assign([[4,5,6],[7,8,9]])"
   ]
  },
  {
   "cell_type": "code",
   "execution_count": null,
   "id": "c051c493",
   "metadata": {},
   "outputs": [],
   "source": []
  },
  {
   "cell_type": "code",
   "execution_count": null,
   "id": "a275330f",
   "metadata": {},
   "outputs": [],
   "source": []
  }
 ],
 "metadata": {
  "kernelspec": {
   "display_name": "tf-gpu",
   "language": "python",
   "name": "python3"
  },
  "language_info": {
   "codemirror_mode": {
    "name": "ipython",
    "version": 3
   },
   "file_extension": ".py",
   "mimetype": "text/x-python",
   "name": "python",
   "nbconvert_exporter": "python",
   "pygments_lexer": "ipython3",
   "version": "3.7.12"
  }
 },
 "nbformat": 4,
 "nbformat_minor": 5
}
