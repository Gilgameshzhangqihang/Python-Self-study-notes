{
 "cells": [
  {
   "cell_type": "markdown",
   "id": "40157b48",
   "metadata": {
    "slideshow": {
     "slide_type": "slide"
    }
   },
   "source": [
    "# 中枢神经系统药物研发：药物筛选与优化 \n",
    "### Python 语法复习\n",
    "<p></p>\n",
    "\n",
    "**Datawhale X Deepmodeling AI for Science 学习赛**"
   ]
  },
  {
   "cell_type": "markdown",
   "id": "9725717a",
   "metadata": {},
   "source": [
    "<p>骆秀韬 epsilon_luoo@outlook.com</p>\n",
    "\n",
    "聪明办法学 Python 教学团队"
   ]
  },
  {
   "cell_type": "markdown",
   "id": "6951a280",
   "metadata": {
    "slideshow": {
     "slide_type": "slide"
    }
   },
   "source": [
    "# print( ) 与 注释"
   ]
  },
  {
   "cell_type": "markdown",
   "id": "76135e51",
   "metadata": {
    "slideshow": {
     "slide_type": "subslide"
    }
   },
   "source": [
    "第一行代码"
   ]
  },
  {
   "cell_type": "code",
   "execution_count": 73,
   "id": "1ad1d911",
   "metadata": {
    "ExecuteTime": {
     "end_time": "2023-11-17T13:21:52.700802Z",
     "start_time": "2023-11-17T13:21:52.697851Z"
    },
    "run_control": {
     "marked": false
    },
    "slideshow": {
     "slide_type": "-"
    }
   },
   "outputs": [
    {
     "name": "stdout",
     "output_type": "stream",
     "text": [
      "hello, world\n"
     ]
    }
   ],
   "source": [
    "print(\"hello, world\") # f(x)"
   ]
  },
  {
   "cell_type": "markdown",
   "id": "7370d7b8",
   "metadata": {
    "slideshow": {
     "slide_type": "fragment"
    }
   },
   "source": [
    "**单行注释** 使用 `#` 开头，`#` 后面的内容不会被当做代码，只能写在一行中"
   ]
  },
  {
   "cell_type": "code",
   "execution_count": 12,
   "id": "578e7867",
   "metadata": {
    "ExecuteTime": {
     "end_time": "2023-11-17T12:06:39.820941Z",
     "start_time": "2023-11-17T12:06:39.816839Z"
    },
    "slideshow": {
     "slide_type": "-"
    }
   },
   "outputs": [
    {
     "name": "stdout",
     "output_type": "stream",
     "text": [
      "Datawhale\n"
     ]
    }
   ],
   "source": [
    "print(\"Datawhale\") # for the learner，和学习者一起成长"
   ]
  },
  {
   "cell_type": "code",
   "execution_count": 10,
   "id": "0911a0cd",
   "metadata": {
    "ExecuteTime": {
     "end_time": "2023-11-17T12:06:10.958404Z",
     "start_time": "2023-11-17T12:06:10.954758Z"
    },
    "run_control": {
     "marked": false
    },
    "slideshow": {
     "slide_type": "fragment"
    }
   },
   "outputs": [
    {
     "name": "stdout",
     "output_type": "stream",
     "text": [
      "p2s\n"
     ]
    }
   ],
   "source": [
    "# learn python the smart way v2\n",
    "print(\"p2s\")\n",
    "# print(\"prepare to be smart\")"
   ]
  },
  {
   "cell_type": "markdown",
   "id": "7a29d72e",
   "metadata": {
    "slideshow": {
     "slide_type": "subslide"
    }
   },
   "source": [
    "每一个 `print()` 会默认换行"
   ]
  },
  {
   "cell_type": "code",
   "execution_count": 13,
   "id": "0d566b73",
   "metadata": {
    "ExecuteTime": {
     "end_time": "2023-11-17T12:08:33.154939Z",
     "start_time": "2023-11-17T12:08:33.150234Z"
    },
    "slideshow": {
     "slide_type": "fragment"
    }
   },
   "outputs": [
    {
     "name": "stdout",
     "output_type": "stream",
     "text": [
      "Data\n",
      "whale\n"
     ]
    }
   ],
   "source": [
    "print(\"Data\")\n",
    "print(\"whale\")"
   ]
  },
  {
   "cell_type": "code",
   "execution_count": 14,
   "id": "7dfa7029",
   "metadata": {
    "ExecuteTime": {
     "end_time": "2023-11-17T12:09:04.591665Z",
     "start_time": "2023-11-17T12:09:04.587262Z"
    },
    "slideshow": {
     "slide_type": "fragment"
    }
   },
   "outputs": [
    {
     "name": "stdout",
     "output_type": "stream",
     "text": [
      "Datawhale\n"
     ]
    }
   ],
   "source": [
    "print(\"Data\", end=\"\")\n",
    "print(\"whale\")"
   ]
  },
  {
   "cell_type": "markdown",
   "id": "af768399",
   "metadata": {
    "slideshow": {
     "slide_type": "subslide"
    }
   },
   "source": [
    "多个内容是以**空格**分隔"
   ]
  },
  {
   "cell_type": "code",
   "execution_count": 15,
   "id": "d040a1f9",
   "metadata": {
    "ExecuteTime": {
     "end_time": "2023-11-17T12:09:27.873318Z",
     "start_time": "2023-11-17T12:09:27.868864Z"
    },
    "slideshow": {
     "slide_type": "fragment"
    }
   },
   "outputs": [
    {
     "name": "stdout",
     "output_type": "stream",
     "text": [
      "Data whale\n"
     ]
    }
   ],
   "source": [
    "print(\"Data\", \"whale\") # f(x, y)"
   ]
  },
  {
   "cell_type": "code",
   "execution_count": 16,
   "id": "6e69a6e4",
   "metadata": {
    "ExecuteTime": {
     "end_time": "2023-11-17T12:09:54.133858Z",
     "start_time": "2023-11-17T12:09:54.129560Z"
    },
    "slideshow": {
     "slide_type": "fragment"
    }
   },
   "outputs": [
    {
     "name": "stdout",
     "output_type": "stream",
     "text": [
      "Data*whale\n"
     ]
    }
   ],
   "source": [
    "print(\"Data\", \"whale\", sep=\"*\")"
   ]
  },
  {
   "cell_type": "markdown",
   "id": "b9db6fc2",
   "metadata": {
    "slideshow": {
     "slide_type": "slide"
    }
   },
   "source": [
    "# 列表与字典"
   ]
  },
  {
   "cell_type": "markdown",
   "id": "672fbe08",
   "metadata": {
    "slideshow": {
     "slide_type": "subslide"
    }
   },
   "source": [
    "**列表是一种序列**，它是**可变**的\n",
    "\n",
    "> 容器的唯一作用就是打包、解包、内容传递。"
   ]
  },
  {
   "cell_type": "code",
   "execution_count": 17,
   "id": "fcc53480",
   "metadata": {
    "ExecuteTime": {
     "end_time": "2023-11-17T12:11:55.646086Z",
     "start_time": "2023-11-17T12:11:55.641378Z"
    },
    "run_control": {
     "marked": false
    },
    "slideshow": {
     "slide_type": "fragment"
    }
   },
   "outputs": [
    {
     "name": "stdout",
     "output_type": "stream",
     "text": [
      "['learn', 'python', 'the', 'smart', 'way']\n"
     ]
    }
   ],
   "source": [
    "p2s = [\"learn\", \"python\", \"the\", \"smart\", \"way\"] # 从 0 开始计数\n",
    "print(p2s)"
   ]
  },
  {
   "cell_type": "code",
   "execution_count": 18,
   "id": "dc687c7c",
   "metadata": {
    "ExecuteTime": {
     "end_time": "2023-11-17T12:12:14.225984Z",
     "start_time": "2023-11-17T12:12:14.221836Z"
    },
    "slideshow": {
     "slide_type": "fragment"
    }
   },
   "outputs": [
    {
     "name": "stdout",
     "output_type": "stream",
     "text": [
      "python learn way smart\n"
     ]
    }
   ],
   "source": [
    "print(p2s[1], p2s[0], p2s[-1], p2s[-2]) # 索引 index"
   ]
  },
  {
   "cell_type": "code",
   "execution_count": 19,
   "id": "57cb6d1d",
   "metadata": {
    "ExecuteTime": {
     "end_time": "2023-11-17T12:13:25.034414Z",
     "start_time": "2023-11-17T12:13:25.030579Z"
    },
    "scrolled": false,
    "slideshow": {
     "slide_type": "fragment"
    }
   },
   "outputs": [
    {
     "name": "stdout",
     "output_type": "stream",
     "text": [
      "['learn', 'python']\n",
      "['the', 'smart', 'way']\n"
     ]
    }
   ],
   "source": [
    "print(p2s[0:2]) # 切片\n",
    "print(p2s[2:]) # 左闭右开区间，起始 0，终止 -1"
   ]
  },
  {
   "cell_type": "markdown",
   "id": "2de59561",
   "metadata": {
    "slideshow": {
     "slide_type": "subslide"
    }
   },
   "source": [
    "字典是**键值对**的集合"
   ]
  },
  {
   "cell_type": "code",
   "execution_count": 20,
   "id": "9d2f2a6b",
   "metadata": {
    "ExecuteTime": {
     "end_time": "2023-11-17T12:17:23.321006Z",
     "start_time": "2023-11-17T12:17:23.316783Z"
    },
    "slideshow": {
     "slide_type": "fragment"
    }
   },
   "outputs": [
    {
     "name": "stdout",
     "output_type": "stream",
     "text": [
      "{'h', 'a', 'D', 'w', 'l', 't', 'e'}\n"
     ]
    }
   ],
   "source": [
    "dw_set = set()\n",
    "for i in \"Datawhale\":\n",
    "    dw_set.add(i)\n",
    "print(dw_set)"
   ]
  },
  {
   "cell_type": "code",
   "execution_count": 21,
   "id": "04eea9e9",
   "metadata": {
    "ExecuteTime": {
     "end_time": "2023-11-17T12:20:51.194695Z",
     "start_time": "2023-11-17T12:20:51.190088Z"
    },
    "slideshow": {
     "slide_type": "fragment"
    }
   },
   "outputs": [
    {
     "name": "stdout",
     "output_type": "stream",
     "text": [
      "Datawhale\n"
     ]
    }
   ],
   "source": [
    "dw_dict = {\"d\":\"Data\", \"w\":\"whale\"} # key: value\n",
    "print(dw_dict[\"d\"], dw_dict[\"w\"], sep=\"\")"
   ]
  },
  {
   "cell_type": "markdown",
   "id": "9023602e",
   "metadata": {
    "ExecuteTime": {
     "end_time": "2023-07-13T04:47:16.317031Z",
     "start_time": "2023-07-13T04:47:16.293190Z"
    },
    "slideshow": {
     "slide_type": "fragment"
    }
   },
   "source": [
    "字典的更新"
   ]
  },
  {
   "cell_type": "code",
   "execution_count": 22,
   "id": "c381c088",
   "metadata": {
    "ExecuteTime": {
     "end_time": "2023-11-17T12:21:18.573060Z",
     "start_time": "2023-11-17T12:21:18.568880Z"
    }
   },
   "outputs": [
    {
     "name": "stdout",
     "output_type": "stream",
     "text": [
      "{'d': 'Data', 'w': 'Whale'}\n"
     ]
    }
   ],
   "source": [
    "dw_dict[\"w\"] = \"Whale\"\n",
    "print(dw_dict)"
   ]
  },
  {
   "cell_type": "markdown",
   "id": "9a2d807c",
   "metadata": {
    "slideshow": {
     "slide_type": "slide"
    }
   },
   "source": [
    "# [if](https://www.runoob.com/python3/python3-conditional-statements.html#:~:text=%E7%9A%84%E6%89%A7%E8%A1%8C%E8%BF%87%E7%A8%8B%3A-,%E4%BB%A3%E7%A0%81%E6%89%A7%E8%A1%8C%E8%BF%87%E7%A8%8B%EF%BC%9A,-if%20%E8%AF%AD%E5%8F%A5) and [for](https://www.runoob.com/python3/python3-loop.html#:~:text=%3A%0A%20%20%20%20%3Cstatements%3E-,%E6%B5%81%E7%A8%8B%E5%9B%BE%EF%BC%9A,-Python%20for%20%E5%BE%AA%E7%8E%AF)"
   ]
  },
  {
   "cell_type": "markdown",
   "id": "7f05a03b",
   "metadata": {
    "slideshow": {
     "slide_type": "subslide"
    }
   },
   "source": [
    "> 女朋友说，下班回来带一个西瓜。如果看到番茄，就买两个 \n",
    "\n",
    "[来源：知乎](https://www.zhihu.com/question/45194583)"
   ]
  },
  {
   "cell_type": "code",
   "execution_count": 70,
   "id": "fb6902fe",
   "metadata": {
    "ExecuteTime": {
     "end_time": "2023-11-17T13:15:39.237121Z",
     "start_time": "2023-11-17T13:15:39.231451Z"
    },
    "init_cell": true,
    "slideshow": {
     "slide_type": "skip"
    }
   },
   "outputs": [],
   "source": [
    "def 买西瓜(num):\n",
    "    return f\"{num}个西瓜\"\n",
    "def 买番茄(num):\n",
    "    return f\"{num}个番茄\"\n",
    "\n",
    "看到番茄 = True"
   ]
  },
  {
   "cell_type": "code",
   "execution_count": 23,
   "id": "5cf27a89",
   "metadata": {
    "ExecuteTime": {
     "end_time": "2023-11-17T12:25:53.967633Z",
     "start_time": "2023-11-17T12:25:53.963939Z"
    },
    "cell_style": "split",
    "run_control": {
     "marked": false
    },
    "slideshow": {
     "slide_type": "fragment"
    }
   },
   "outputs": [
    {
     "name": "stdout",
     "output_type": "stream",
     "text": [
      "带了2个西瓜回家\n"
     ]
    }
   ],
   "source": [
    "# 下班了\n",
    "西瓜 = 买西瓜(1)\n",
    "if 看到番茄:\n",
    "    西瓜 = 买西瓜(2)\n",
    "print(f\"带了{西瓜}回家\")"
   ]
  },
  {
   "cell_type": "code",
   "execution_count": 24,
   "id": "566b53f0",
   "metadata": {
    "ExecuteTime": {
     "end_time": "2023-11-17T12:26:16.237332Z",
     "start_time": "2023-11-17T12:26:16.232929Z"
    },
    "cell_style": "split",
    "run_control": {
     "marked": false
    },
    "scrolled": true,
    "slideshow": {
     "slide_type": "fragment"
    }
   },
   "outputs": [
    {
     "name": "stdout",
     "output_type": "stream",
     "text": [
      "带了1个西瓜和2个番茄回家\n"
     ]
    }
   ],
   "source": [
    "# 女朋友心想\n",
    "西瓜 = 买西瓜(1)\n",
    "if 看到番茄:\n",
    "    番茄 = 买番茄(2)\n",
    "print(f\"带了{西瓜}和{番茄}回家\")"
   ]
  },
  {
   "cell_type": "code",
   "execution_count": 74,
   "id": "38925f7d",
   "metadata": {
    "ExecuteTime": {
     "end_time": "2023-11-17T13:22:10.212032Z",
     "start_time": "2023-11-17T13:22:10.207205Z"
    },
    "cell_style": "split",
    "slideshow": {
     "slide_type": "subslide"
    }
   },
   "outputs": [
    {
     "name": "stdout",
     "output_type": "stream",
     "text": [
      "🐳🐳🐳\n",
      "🐳🐳🐳\n",
      "🐳🐳🐳\n"
     ]
    }
   ],
   "source": [
    "for row in range(3): # [0, 3)\n",
    "    for col in range(3):\n",
    "        print(\"🐳\", end=\"\")\n",
    "    print()"
   ]
  },
  {
   "cell_type": "code",
   "execution_count": 28,
   "id": "e2bc3e8b",
   "metadata": {
    "ExecuteTime": {
     "end_time": "2023-11-17T12:30:06.816553Z",
     "start_time": "2023-11-17T12:30:06.813053Z"
    },
    "cell_style": "split",
    "scrolled": true,
    "slideshow": {
     "slide_type": "fragment"
    }
   },
   "outputs": [
    {
     "name": "stdout",
     "output_type": "stream",
     "text": [
      "learn\n",
      "python\n",
      "the\n",
      "smart\n",
      "way\n"
     ]
    }
   ],
   "source": [
    "for string in \"learn python the smart way\".split():\n",
    "    print(string)"
   ]
  },
  {
   "cell_type": "code",
   "execution_count": 29,
   "id": "6eb860cf",
   "metadata": {
    "ExecuteTime": {
     "end_time": "2023-11-17T12:30:54.598029Z",
     "start_time": "2023-11-17T12:30:54.593797Z"
    },
    "slideshow": {
     "slide_type": "fragment"
    }
   },
   "outputs": [
    {
     "name": "stdout",
     "output_type": "stream",
     "text": [
      "['我', '秦始皇', 'V50', '吃肯德基']\n"
     ]
    }
   ],
   "source": [
    "print(\"我，秦始皇，V50，吃肯德基\".split(\"，\"))"
   ]
  },
  {
   "cell_type": "markdown",
   "id": "6d78da59",
   "metadata": {
    "slideshow": {
     "slide_type": "slide"
    }
   },
   "source": [
    "# 推导式"
   ]
  },
  {
   "cell_type": "code",
   "execution_count": 30,
   "id": "44c6d24b",
   "metadata": {
    "ExecuteTime": {
     "end_time": "2023-11-17T12:32:02.844088Z",
     "start_time": "2023-11-17T12:32:02.841009Z"
    },
    "slideshow": {
     "slide_type": "subslide"
    }
   },
   "outputs": [
    {
     "name": "stdout",
     "output_type": "stream",
     "text": [
      "[0, 1, 2, 3, 4, 5, 6, 7, 8, 9]\n"
     ]
    }
   ],
   "source": [
    "nums = []\n",
    "for i in range(10):\n",
    "    nums.append(i)\n",
    "print(nums)"
   ]
  },
  {
   "cell_type": "markdown",
   "id": "bf432f8a",
   "metadata": {
    "slideshow": {
     "slide_type": "fragment"
    }
   },
   "source": [
    "有什么问题？"
   ]
  },
  {
   "cell_type": "markdown",
   "id": "b0b5f002",
   "metadata": {
    "slideshow": {
     "slide_type": "fragment"
    }
   },
   "source": [
    "## 不够优雅"
   ]
  },
  {
   "cell_type": "code",
   "execution_count": 33,
   "id": "c368e4f3",
   "metadata": {
    "ExecuteTime": {
     "end_time": "2023-11-17T12:34:06.897797Z",
     "start_time": "2023-11-17T12:34:06.893276Z"
    },
    "cell_style": "split",
    "slideshow": {
     "slide_type": "fragment"
    }
   },
   "outputs": [
    {
     "data": {
      "text/plain": [
       "[0, 1, 2, 3, 4, 5, 6, 7, 8, 9]"
      ]
     },
     "execution_count": 33,
     "metadata": {},
     "output_type": "execute_result"
    }
   ],
   "source": [
    "nums = [i for i in range(10)]\n",
    "nums"
   ]
  },
  {
   "cell_type": "markdown",
   "id": "b729b2ec",
   "metadata": {
    "ExecuteTime": {
     "end_time": "2023-11-17T09:12:54.524929Z",
     "start_time": "2023-11-17T09:12:54.453710Z"
    },
    "cell_style": "split",
    "slideshow": {
     "slide_type": "fragment"
    }
   },
   "source": [
    "![](https://pica.zhimg.com/50/v2-f2560f634b1e09f81522f29f363827f7_720w.jpg?source=1940ef5c)"
   ]
  },
  {
   "cell_type": "markdown",
   "id": "ecf8156e",
   "metadata": {
    "cell_style": "center",
    "slideshow": {
     "slide_type": "subslide"
    }
   },
   "source": [
    "列表推导式\n",
    "\n",
    "```python\n",
    "[ 表达式 for 变量 in 序列 (if 条件) ]\n",
    "```"
   ]
  },
  {
   "cell_type": "code",
   "execution_count": 34,
   "id": "9e0b2c5f",
   "metadata": {
    "ExecuteTime": {
     "end_time": "2023-11-17T12:35:18.311727Z",
     "start_time": "2023-11-17T12:35:18.307585Z"
    },
    "slideshow": {
     "slide_type": "fragment"
    }
   },
   "outputs": [
    {
     "data": {
      "text/plain": [
       "[0, 1, 2, 3, 4]"
      ]
     },
     "execution_count": 34,
     "metadata": {},
     "output_type": "execute_result"
    }
   ],
   "source": [
    "nums = [i for i in range(10) if i < 5]\n",
    "nums"
   ]
  },
  {
   "cell_type": "markdown",
   "id": "55ba8ed3",
   "metadata": {
    "slideshow": {
     "slide_type": "fragment"
    }
   },
   "source": [
    "字典推导式\n",
    "```python\n",
    "{ 键（表达式）: 值（表达式） for 变量 in 序列 if 条件 }\n",
    "```"
   ]
  },
  {
   "cell_type": "code",
   "execution_count": 35,
   "id": "50fa3834",
   "metadata": {
    "ExecuteTime": {
     "end_time": "2023-11-17T12:36:43.292153Z",
     "start_time": "2023-11-17T12:36:43.287846Z"
    },
    "slideshow": {
     "slide_type": "fragment"
    }
   },
   "outputs": [
    {
     "data": {
      "text/plain": [
       "{6: 36, 7: 49, 8: 64, 9: 81}"
      ]
     },
     "execution_count": 35,
     "metadata": {},
     "output_type": "execute_result"
    }
   ],
   "source": [
    "nums = {i: i**2 for i in range(10) if i > 5}\n",
    "nums"
   ]
  },
  {
   "cell_type": "markdown",
   "id": "6d516eb3",
   "metadata": {
    "slideshow": {
     "slide_type": "slide"
    }
   },
   "source": [
    "# 自定义函数 与 return"
   ]
  },
  {
   "cell_type": "markdown",
   "id": "8c70991b",
   "metadata": {
    "slideshow": {
     "slide_type": "fragment"
    }
   },
   "source": [
    "> A function is a procedure (a sequence of statements) stored under a name that can be used repeatedly by calling the name."
   ]
  },
  {
   "cell_type": "markdown",
   "id": "60621952",
   "metadata": {
    "slideshow": {
     "slide_type": "subslide"
    }
   },
   "source": [
    "以 **Rectified Linear Unit (ReLU)** 函数为例，其数学表达式为：\n",
    "\n",
    "$f(x) = \\begin{cases}\n",
    "    x, x > 0, \\\\\n",
    "    0, x \\leqslant 0.\n",
    "\\end{cases}$"
   ]
  },
  {
   "cell_type": "code",
   "execution_count": 36,
   "id": "e38903f5",
   "metadata": {
    "ExecuteTime": {
     "end_time": "2023-11-17T12:43:11.337074Z",
     "start_time": "2023-11-17T12:43:11.332373Z"
    },
    "cell_style": "split",
    "slideshow": {
     "slide_type": "fragment"
    }
   },
   "outputs": [
    {
     "name": "stdout",
     "output_type": "stream",
     "text": [
      "9\n"
     ]
    }
   ],
   "source": [
    "def ReLU(x): # define\n",
    "    if x > 0:\n",
    "        return x\n",
    "    return 0\n",
    "\n",
    "print(ReLU(9))"
   ]
  },
  {
   "cell_type": "code",
   "execution_count": 37,
   "id": "67ebb5f5",
   "metadata": {
    "ExecuteTime": {
     "end_time": "2023-11-17T12:44:43.022447Z",
     "start_time": "2023-11-17T12:44:43.018627Z"
    },
    "cell_style": "split",
    "slideshow": {
     "slide_type": "fragment"
    }
   },
   "outputs": [
    {
     "name": "stdout",
     "output_type": "stream",
     "text": [
      "0\n"
     ]
    }
   ],
   "source": [
    "relu = lambda x: max(x, 0)\n",
    "print(relu(-9))"
   ]
  },
  {
   "cell_type": "code",
   "execution_count": 38,
   "id": "4a9e96fc",
   "metadata": {
    "ExecuteTime": {
     "end_time": "2023-11-17T12:45:58.506837Z",
     "start_time": "2023-11-17T12:45:57.804317Z"
    },
    "cell_style": "center",
    "run_control": {
     "marked": false
    },
    "slideshow": {
     "slide_type": "subslide"
    }
   },
   "outputs": [
    {
     "data": {
      "text/plain": [
       "[<matplotlib.lines.Line2D at 0x2497f90b3d0>]"
      ]
     },
     "execution_count": 38,
     "metadata": {},
     "output_type": "execute_result"
    },
    {
     "data": {
      "image/png": "[encoded data removed]",
      "text/plain": [
       "<Figure size 640x480 with 1 Axes>"
      ]
     },
     "metadata": {},
     "output_type": "display_data"
    }
   ],
   "source": [
    "import matplotlib.pyplot as plt\n",
    "%matplotlib inline\n",
    "\n",
    "X = [x for x in range(-10, 10)]\n",
    "Y = [relu(x) for x in range(-10, 10)]\n",
    "\n",
    "plt.plot(X, Y)"
   ]
  },
  {
   "cell_type": "markdown",
   "id": "d5173404",
   "metadata": {
    "ExecuteTime": {
     "end_time": "2023-07-13T06:30:12.381192Z",
     "start_time": "2023-07-13T06:30:12.378186Z"
    },
    "slideshow": {
     "slide_type": "slide"
    }
   },
   "source": [
    "# 托马斯小火车与它的对象们"
   ]
  },
  {
   "cell_type": "code",
   "execution_count": 39,
   "id": "68d2185f",
   "metadata": {
    "ExecuteTime": {
     "end_time": "2023-11-17T12:51:34.895610Z",
     "start_time": "2023-11-17T12:51:34.875264Z"
    },
    "slideshow": {
     "slide_type": "subslide"
    }
   },
   "outputs": [],
   "source": [
    "from random import choice\n",
    "import time\n",
    "from tqdm import tqdm\n",
    "from IPython.display import display, HTML\n",
    "\n",
    "class Train:\n",
    "    def __init__(self, name, *goods, naughty=True):\n",
    "        self.name = name\n",
    "        self.goods = goods\n",
    "        self.naughty = naughty\n",
    "    \n",
    "    def __getitem__(self, idx):\n",
    "        if self.naughty:\n",
    "            return choice(self.goods)\n",
    "        return self.goods[idx]\n",
    "    \n",
    "    def __len__(self):\n",
    "        return len(self.goods)\n",
    "    \n",
    "    def info(self):\n",
    "        if self.name == \"托马斯小火车\":\n",
    "            return f\"Hi，我是{self.name}，Cinders and ashes!\"\n",
    "        return f\"Hi，我是{self.name}\"\n",
    "    \n",
    "    def 发车(self, string):\n",
    "        print(f\"{string}，上山！\") # f-strings\n",
    "        for _ in tqdm(range(30)):\n",
    "            time.sleep(0.1)\n",
    "        display(HTML(\"<video controls width=1200 src='train.mp4'>train</video>\"))"
   ]
  },
  {
   "cell_type": "code",
   "execution_count": 40,
   "id": "a1e8ec1f",
   "metadata": {
    "ExecuteTime": {
     "end_time": "2023-11-17T12:54:12.276171Z",
     "start_time": "2023-11-17T12:54:12.272311Z"
    },
    "slideshow": {
     "slide_type": "subslide"
    }
   },
   "outputs": [],
   "source": [
    "Edward = Train(\"爱德华\", 1, 2.5, 9, 114, 514, naughty=False) # 实例化"
   ]
  },
  {
   "cell_type": "code",
   "execution_count": 41,
   "id": "14d1c19b",
   "metadata": {
    "ExecuteTime": {
     "end_time": "2023-11-17T12:54:30.003172Z",
     "start_time": "2023-11-17T12:54:29.998049Z"
    },
    "slideshow": {
     "slide_type": "fragment"
    }
   },
   "outputs": [
    {
     "data": {
      "text/plain": [
       "'Hi，我是爱德华'"
      ]
     },
     "execution_count": 41,
     "metadata": {},
     "output_type": "execute_result"
    }
   ],
   "source": [
    "Edward.info()"
   ]
  },
  {
   "cell_type": "code",
   "execution_count": 68,
   "id": "f532074d",
   "metadata": {
    "ExecuteTime": {
     "end_time": "2023-11-17T13:09:16.444115Z",
     "start_time": "2023-11-17T13:09:16.439912Z"
    },
    "slideshow": {
     "slide_type": "fragment"
    }
   },
   "outputs": [
    {
     "name": "stdout",
     "output_type": "stream",
     "text": [
      "hw\n"
     ]
    }
   ],
   "source": [
    "len(Edward)"
   ]
  },
  {
   "cell_type": "code",
   "execution_count": 43,
   "id": "d29a3fc6",
   "metadata": {
    "ExecuteTime": {
     "end_time": "2023-11-17T12:59:02.938064Z",
     "start_time": "2023-11-17T12:59:02.933799Z"
    },
    "slideshow": {
     "slide_type": "fragment"
    }
   },
   "outputs": [
    {
     "name": "stdout",
     "output_type": "stream",
     "text": [
      "hello 514\n"
     ]
    }
   ],
   "source": [
    "a, b = Edward[3], Edward[4] # 打包与解包 ([3], [4]) -> a, b\n",
    "print(f\"hello {b}\") # f-string"
   ]
  },
  {
   "cell_type": "code",
   "execution_count": 51,
   "id": "b215d3d3",
   "metadata": {
    "ExecuteTime": {
     "end_time": "2023-11-17T13:03:49.227317Z",
     "start_time": "2023-11-17T13:03:49.222533Z"
    },
    "run_control": {
     "marked": false
    },
    "slideshow": {
     "slide_type": "subslide"
    }
   },
   "outputs": [
    {
     "data": {
      "text/plain": [
       "'Hi，我是托马斯小火车，Cinders and ashes!'"
      ]
     },
     "execution_count": 51,
     "metadata": {},
     "output_type": "execute_result"
    }
   ],
   "source": [
    "货物 = [\"邮件\", \"大米\", \"煤矿\", \"劳斯莱斯\"]\n",
    "托马斯 = Train(\"托马斯小火车\", *货物, naughty=True )\n",
    "托马斯.info()"
   ]
  },
  {
   "cell_type": "code",
   "execution_count": 50,
   "id": "87f58c0a",
   "metadata": {
    "ExecuteTime": {
     "end_time": "2023-11-17T13:03:04.647938Z",
     "start_time": "2023-11-17T13:03:04.643178Z"
    },
    "slideshow": {
     "slide_type": "fragment"
    }
   },
   "outputs": [
    {
     "data": {
      "text/plain": [
       "4"
      ]
     },
     "execution_count": 50,
     "metadata": {},
     "output_type": "execute_result"
    }
   ],
   "source": [
    "len(托马斯)"
   ]
  },
  {
   "cell_type": "code",
   "execution_count": 66,
   "id": "781d99bb",
   "metadata": {
    "ExecuteTime": {
     "end_time": "2023-11-17T13:04:28.905131Z",
     "start_time": "2023-11-17T13:04:28.898894Z"
    },
    "slideshow": {
     "slide_type": "fragment"
    }
   },
   "outputs": [
    {
     "data": {
      "text/plain": [
       "'邮件'"
      ]
     },
     "execution_count": 66,
     "metadata": {},
     "output_type": "execute_result"
    }
   ],
   "source": [
    "托马斯[2]"
   ]
  },
  {
   "cell_type": "code",
   "execution_count": 69,
   "id": "bb788cf8",
   "metadata": {
    "ExecuteTime": {
     "end_time": "2023-11-17T13:09:48.616355Z",
     "start_time": "2023-11-17T13:09:45.574728Z"
    },
    "scrolled": true,
    "slideshow": {
     "slide_type": "subslide"
    }
   },
   "outputs": [
    {
     "name": "stdout",
     "output_type": "stream",
     "text": [
      "AE86，上山！\n"
     ]
    },
    {
     "name": "stderr",
     "output_type": "stream",
     "text": [
      "100%|███████████████████████████████████████████████████████████████████████████████| 30/30 [00:03<00:00,  9.89it/s]\n"
     ]
    },
    {
     "data": {
      "text/html": [
       "<video controls width=1200 src='train.mp4'>train</video>"
      ],
      "text/plain": [
       "<IPython.core.display.HTML object>"
      ]
     },
     "metadata": {},
     "output_type": "display_data"
    }
   ],
   "source": [
    "托马斯.发车(\"AE86\")"
   ]
  },
  {
   "cell_type": "markdown",
   "id": "dc14897b",
   "metadata": {
    "slideshow": {
     "slide_type": "slide"
    }
   },
   "source": [
    "# Thank You ;-)\n",
    "Datawhale 聪明办法学 Python 教学团队出品\n",
    "\n",
    "## 关注我们\n",
    "Datawhale 是一个专注 AI 领域的开源组织，以“for the learner，和学习者一起成长”为愿景，构建对学习者最有价值的开源学习社区。关注我们，一起学习成长。\n",
    "<div align=center><img src=\"datawhale_wechat_qrcode.jpeg\" width = \"250\" height = \"270\"></div>"
   ]
  }
 ],
 "metadata": {
  "celltoolbar": "Slideshow",
  "kernelspec": {
   "display_name": "Python 3 (ipykernel)",
   "language": "python",
   "name": "python3"
  },
  "language_info": {
   "codemirror_mode": {
    "name": "ipython",
    "version": 3
   },
   "file_extension": ".py",
   "mimetype": "text/x-python",
   "name": "python",
   "nbconvert_exporter": "python",
   "pygments_lexer": "ipython3",
   "version": "3.11.5"
  },
  "rise": {
   "overlay": "<div class='my-top-right'><img height=40px src='datawhale_logo.png'/></div><div class='my-top-left'></div>"
  },
  "varInspector": {
   "cols": {
    "lenName": 16,
    "lenType": 16,
    "lenVar": 40
   },
   "kernels_config": {
    "python": {
     "delete_cmd_postfix": "",
     "delete_cmd_prefix": "del ",
     "library": "var_list.py",
     "varRefreshCmd": "print(var_dic_list())"
    },
    "r": {
     "delete_cmd_postfix": ") ",
     "delete_cmd_prefix": "rm(",
     "library": "var_list.r",
     "varRefreshCmd": "cat(var_dic_list()) "
    }
   },
   "types_to_exclude": [
    "module",
    "function",
    "builtin_function_or_method",
    "instance",
    "_Feature"
   ],
   "window_display": false
  }
 },
 "nbformat": 4,
 "nbformat_minor": 5
}
