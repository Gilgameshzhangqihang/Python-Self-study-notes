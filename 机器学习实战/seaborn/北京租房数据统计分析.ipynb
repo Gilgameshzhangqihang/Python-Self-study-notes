{
 "cells": [
  {
   "cell_type": "code",
   "execution_count": 16,
   "id": "6d9e242f",
   "metadata": {},
   "outputs": [],
   "source": [
    "import numpy as np\n",
    "import pandas as pd\n",
    "import matplotlib.pyplot as plt\n",
    "import seaborn as sns"
   ]
  },
  {
   "cell_type": "code",
   "execution_count": 17,
   "id": "55ad51a9",
   "metadata": {},
   "outputs": [],
   "source": [
    "##获取数据，初步处理\n",
    "file_data=pd.read_csv(\"./链家北京租房数据.csv\")"
   ]
  },
  {
   "cell_type": "code",
   "execution_count": 18,
   "id": "60210b0f",
   "metadata": {},
   "outputs": [
    {
     "data": {
      "text/html": [
       "<div>\n",
       "<style scoped>\n",
       "    .dataframe tbody tr th:only-of-type {\n",
       "        vertical-align: middle;\n",
       "    }\n",
       "\n",
       "    .dataframe tbody tr th {\n",
       "        vertical-align: top;\n",
       "    }\n",
       "\n",
       "    .dataframe thead th {\n",
       "        text-align: right;\n",
       "    }\n",
       "</style>\n",
       "<table border=\"1\" class=\"dataframe\">\n",
       "  <thead>\n",
       "    <tr style=\"text-align: right;\">\n",
       "      <th></th>\n",
       "      <th>区域</th>\n",
       "      <th>小区名称</th>\n",
       "      <th>户型</th>\n",
       "      <th>面积(㎡)</th>\n",
       "      <th>价格(元/月)</th>\n",
       "    </tr>\n",
       "  </thead>\n",
       "  <tbody>\n",
       "    <tr>\n",
       "      <th>0</th>\n",
       "      <td>东城</td>\n",
       "      <td>万国城MOMA</td>\n",
       "      <td>1室0厅</td>\n",
       "      <td>59.11平米</td>\n",
       "      <td>10000</td>\n",
       "    </tr>\n",
       "    <tr>\n",
       "      <th>1</th>\n",
       "      <td>东城</td>\n",
       "      <td>北官厅胡同2号院</td>\n",
       "      <td>3室0厅</td>\n",
       "      <td>56.92平米</td>\n",
       "      <td>6000</td>\n",
       "    </tr>\n",
       "    <tr>\n",
       "      <th>2</th>\n",
       "      <td>东城</td>\n",
       "      <td>和平里三区</td>\n",
       "      <td>1室1厅</td>\n",
       "      <td>40.57平米</td>\n",
       "      <td>6900</td>\n",
       "    </tr>\n",
       "    <tr>\n",
       "      <th>3</th>\n",
       "      <td>东城</td>\n",
       "      <td>菊儿胡同</td>\n",
       "      <td>2室1厅</td>\n",
       "      <td>57.09平米</td>\n",
       "      <td>8000</td>\n",
       "    </tr>\n",
       "    <tr>\n",
       "      <th>4</th>\n",
       "      <td>东城</td>\n",
       "      <td>交道口北二条35号院</td>\n",
       "      <td>1室1厅</td>\n",
       "      <td>42.67平米</td>\n",
       "      <td>5500</td>\n",
       "    </tr>\n",
       "  </tbody>\n",
       "</table>\n",
       "</div>"
      ],
      "text/plain": [
       "   区域        小区名称    户型    面积(㎡)  价格(元/月)\n",
       "0  东城     万国城MOMA  1室0厅  59.11平米    10000\n",
       "1  东城    北官厅胡同2号院  3室0厅  56.92平米     6000\n",
       "2  东城       和平里三区  1室1厅  40.57平米     6900\n",
       "3  东城        菊儿胡同  2室1厅  57.09平米     8000\n",
       "4  东城  交道口北二条35号院  1室1厅  42.67平米     5500"
      ]
     },
     "execution_count": 18,
     "metadata": {},
     "output_type": "execute_result"
    }
   ],
   "source": [
    "file_data.head()"
   ]
  },
  {
   "cell_type": "code",
   "execution_count": 19,
   "id": "ee0f7de7",
   "metadata": {},
   "outputs": [
    {
     "data": {
      "text/html": [
       "<div>\n",
       "<style scoped>\n",
       "    .dataframe tbody tr th:only-of-type {\n",
       "        vertical-align: middle;\n",
       "    }\n",
       "\n",
       "    .dataframe tbody tr th {\n",
       "        vertical-align: top;\n",
       "    }\n",
       "\n",
       "    .dataframe thead th {\n",
       "        text-align: right;\n",
       "    }\n",
       "</style>\n",
       "<table border=\"1\" class=\"dataframe\">\n",
       "  <thead>\n",
       "    <tr style=\"text-align: right;\">\n",
       "      <th></th>\n",
       "      <th>价格(元/月)</th>\n",
       "    </tr>\n",
       "  </thead>\n",
       "  <tbody>\n",
       "    <tr>\n",
       "      <th>count</th>\n",
       "      <td>8223.000000</td>\n",
       "    </tr>\n",
       "    <tr>\n",
       "      <th>mean</th>\n",
       "      <td>9512.297823</td>\n",
       "    </tr>\n",
       "    <tr>\n",
       "      <th>std</th>\n",
       "      <td>9186.752612</td>\n",
       "    </tr>\n",
       "    <tr>\n",
       "      <th>min</th>\n",
       "      <td>566.000000</td>\n",
       "    </tr>\n",
       "    <tr>\n",
       "      <th>25%</th>\n",
       "      <td>4800.000000</td>\n",
       "    </tr>\n",
       "    <tr>\n",
       "      <th>50%</th>\n",
       "      <td>6800.000000</td>\n",
       "    </tr>\n",
       "    <tr>\n",
       "      <th>75%</th>\n",
       "      <td>10000.000000</td>\n",
       "    </tr>\n",
       "    <tr>\n",
       "      <th>max</th>\n",
       "      <td>150000.000000</td>\n",
       "    </tr>\n",
       "  </tbody>\n",
       "</table>\n",
       "</div>"
      ],
      "text/plain": [
       "             价格(元/月)\n",
       "count    8223.000000\n",
       "mean     9512.297823\n",
       "std      9186.752612\n",
       "min       566.000000\n",
       "25%      4800.000000\n",
       "50%      6800.000000\n",
       "75%     10000.000000\n",
       "max    150000.000000"
      ]
     },
     "execution_count": 19,
     "metadata": {},
     "output_type": "execute_result"
    }
   ],
   "source": [
    "file_data.describe()"
   ]
  },
  {
   "cell_type": "code",
   "execution_count": 20,
   "id": "7873e4d8",
   "metadata": {},
   "outputs": [
    {
     "data": {
      "text/plain": [
       "(8223, 5)"
      ]
     },
     "execution_count": 20,
     "metadata": {},
     "output_type": "execute_result"
    }
   ],
   "source": [
    "file_data.shape"
   ]
  },
  {
   "cell_type": "code",
   "execution_count": 21,
   "id": "f6a4510a",
   "metadata": {},
   "outputs": [
    {
     "name": "stdout",
     "output_type": "stream",
     "text": [
      "<class 'pandas.core.frame.DataFrame'>\n",
      "RangeIndex: 8223 entries, 0 to 8222\n",
      "Data columns (total 5 columns):\n",
      " #   Column   Non-Null Count  Dtype \n",
      "---  ------   --------------  ----- \n",
      " 0   区域       8223 non-null   object\n",
      " 1   小区名称     8223 non-null   object\n",
      " 2   户型       8223 non-null   object\n",
      " 3   面积(㎡)    8223 non-null   object\n",
      " 4   价格(元/月)  8223 non-null   int64 \n",
      "dtypes: int64(1), object(4)\n",
      "memory usage: 321.3+ KB\n"
     ]
    }
   ],
   "source": [
    "file_data.info()"
   ]
  },
  {
   "cell_type": "markdown",
   "id": "51720fae",
   "metadata": {},
   "source": [
    "# 数据基本处理"
   ]
  },
  {
   "cell_type": "code",
   "execution_count": 22,
   "id": "5c4fe3ee",
   "metadata": {},
   "outputs": [
    {
     "data": {
      "text/plain": [
       "0       False\n",
       "1       False\n",
       "2       False\n",
       "3       False\n",
       "4       False\n",
       "        ...  \n",
       "8218    False\n",
       "8219    False\n",
       "8220    False\n",
       "8221    False\n",
       "8222    False\n",
       "Length: 8223, dtype: bool"
      ]
     },
     "execution_count": 22,
     "metadata": {},
     "output_type": "execute_result"
    }
   ],
   "source": [
    "##重复值和空值处理\n",
    "file_data.duplicated()"
   ]
  },
  {
   "cell_type": "code",
   "execution_count": 23,
   "id": "7e30c091",
   "metadata": {},
   "outputs": [],
   "source": [
    "file_data=file_data.drop_duplicates()"
   ]
  },
  {
   "cell_type": "code",
   "execution_count": 24,
   "id": "e819a326",
   "metadata": {},
   "outputs": [
    {
     "data": {
      "text/plain": [
       "(5773, 5)"
      ]
     },
     "execution_count": 24,
     "metadata": {},
     "output_type": "execute_result"
    }
   ],
   "source": [
    "file_data.shape"
   ]
  },
  {
   "cell_type": "code",
   "execution_count": 25,
   "id": "1c9ddf63",
   "metadata": {},
   "outputs": [
    {
     "data": {
      "text/plain": [
       "(5773, 5)"
      ]
     },
     "execution_count": 25,
     "metadata": {},
     "output_type": "execute_result"
    }
   ],
   "source": [
    "##检测是否有缺失值\n",
    "file_data=file_data.dropna()\n",
    "file_data.shape   #发现没有缺失值"
   ]
  },
  {
   "cell_type": "markdown",
   "id": "b28b07da",
   "metadata": {},
   "source": [
    "# 数据类型转换"
   ]
  },
  {
   "cell_type": "code",
   "execution_count": 26,
   "id": "d0cdc3ee",
   "metadata": {},
   "outputs": [
    {
     "data": {
      "text/plain": [
       "<bound method DataFrame.info of       区域        小区名称     户型     面积(㎡)  价格(元/月)\n",
       "0     东城     万国城MOMA   1室0厅   59.11平米    10000\n",
       "1     东城    北官厅胡同2号院   3室0厅   56.92平米     6000\n",
       "2     东城       和平里三区   1室1厅   40.57平米     6900\n",
       "3     东城        菊儿胡同   2室1厅   57.09平米     8000\n",
       "4     东城  交道口北二条35号院   1室1厅   42.67平米     5500\n",
       "...   ..         ...    ...       ...      ...\n",
       "8218  顺义        怡馨家园   3室1厅  114.03平米     5500\n",
       "8219  顺义      旭辉26街区  4房间2卫      59平米     5000\n",
       "8220  顺义     前进花园玉兰苑   3室1厅   92.41平米     5800\n",
       "8221  顺义        双裕小区   2室1厅   71.81平米     4200\n",
       "8222  顺义       樱花园二区   1室1厅   35.43平米     2700\n",
       "\n",
       "[5773 rows x 5 columns]>"
      ]
     },
     "execution_count": 26,
     "metadata": {},
     "output_type": "execute_result"
    }
   ],
   "source": [
    "file_data.info"
   ]
  },
  {
   "cell_type": "code",
   "execution_count": 27,
   "id": "c1aef69f",
   "metadata": {},
   "outputs": [
    {
     "name": "stderr",
     "output_type": "stream",
     "text": [
      "C:\\Users\\Dell\\AppData\\Local\\Temp\\ipykernel_24944\\2828606342.py:6: DeprecationWarning: In a future version, `df.iloc[:, i] = newvals` will attempt to set the values inplace instead of always setting a new array. To retain the old behavior, use either `df[df.columns[i]] = newvals` or, if columns are non-unique, `df.isetitem(i, newvals)`\n",
      "  file_data.loc[:,\"面积(㎡)\"]=data\n"
     ]
    }
   ],
   "source": [
    "data_new=np.array([])\n",
    "data=file_data[\"面积(㎡)\"].values\n",
    "for i in data:\n",
    "    data_new=np.append(data_new,np.array(i[:-2]))\n",
    "data=data_new.astype(np.float64)\n",
    "file_data.loc[:,\"面积(㎡)\"]=data"
   ]
  },
  {
   "cell_type": "code",
   "execution_count": 28,
   "id": "46331694",
   "metadata": {},
   "outputs": [
    {
     "data": {
      "text/html": [
       "<div>\n",
       "<style scoped>\n",
       "    .dataframe tbody tr th:only-of-type {\n",
       "        vertical-align: middle;\n",
       "    }\n",
       "\n",
       "    .dataframe tbody tr th {\n",
       "        vertical-align: top;\n",
       "    }\n",
       "\n",
       "    .dataframe thead th {\n",
       "        text-align: right;\n",
       "    }\n",
       "</style>\n",
       "<table border=\"1\" class=\"dataframe\">\n",
       "  <thead>\n",
       "    <tr style=\"text-align: right;\">\n",
       "      <th></th>\n",
       "      <th>区域</th>\n",
       "      <th>小区名称</th>\n",
       "      <th>户型</th>\n",
       "      <th>面积(㎡)</th>\n",
       "      <th>价格(元/月)</th>\n",
       "    </tr>\n",
       "  </thead>\n",
       "  <tbody>\n",
       "    <tr>\n",
       "      <th>0</th>\n",
       "      <td>东城</td>\n",
       "      <td>万国城MOMA</td>\n",
       "      <td>1室0厅</td>\n",
       "      <td>59.11</td>\n",
       "      <td>10000</td>\n",
       "    </tr>\n",
       "    <tr>\n",
       "      <th>1</th>\n",
       "      <td>东城</td>\n",
       "      <td>北官厅胡同2号院</td>\n",
       "      <td>3室0厅</td>\n",
       "      <td>56.92</td>\n",
       "      <td>6000</td>\n",
       "    </tr>\n",
       "    <tr>\n",
       "      <th>2</th>\n",
       "      <td>东城</td>\n",
       "      <td>和平里三区</td>\n",
       "      <td>1室1厅</td>\n",
       "      <td>40.57</td>\n",
       "      <td>6900</td>\n",
       "    </tr>\n",
       "    <tr>\n",
       "      <th>3</th>\n",
       "      <td>东城</td>\n",
       "      <td>菊儿胡同</td>\n",
       "      <td>2室1厅</td>\n",
       "      <td>57.09</td>\n",
       "      <td>8000</td>\n",
       "    </tr>\n",
       "    <tr>\n",
       "      <th>4</th>\n",
       "      <td>东城</td>\n",
       "      <td>交道口北二条35号院</td>\n",
       "      <td>1室1厅</td>\n",
       "      <td>42.67</td>\n",
       "      <td>5500</td>\n",
       "    </tr>\n",
       "  </tbody>\n",
       "</table>\n",
       "</div>"
      ],
      "text/plain": [
       "   区域        小区名称    户型  面积(㎡)  价格(元/月)\n",
       "0  东城     万国城MOMA  1室0厅  59.11    10000\n",
       "1  东城    北官厅胡同2号院  3室0厅  56.92     6000\n",
       "2  东城       和平里三区  1室1厅  40.57     6900\n",
       "3  东城        菊儿胡同  2室1厅  57.09     8000\n",
       "4  东城  交道口北二条35号院  1室1厅  42.67     5500"
      ]
     },
     "execution_count": 28,
     "metadata": {},
     "output_type": "execute_result"
    }
   ],
   "source": [
    "housetype_data=file_data[\"户型\"]\n",
    "temp_list=[]\n",
    "for i in housetype_data:\n",
    "    temp_info=i.replace(\"房间\",\"室\")\n",
    "    temp_list.append(temp_info)\n",
    "file_data.loc[:,\"户型\"]=temp_list\n",
    "file_data.head()"
   ]
  },
  {
   "cell_type": "markdown",
   "id": "cba57c2d",
   "metadata": {},
   "source": [
    "# 图表分析"
   ]
  },
  {
   "cell_type": "markdown",
   "id": "031d3b2c",
   "metadata": {},
   "source": [
    "# 房源数量和位置分析"
   ]
  },
  {
   "cell_type": "code",
   "execution_count": 30,
   "id": "30feaed2",
   "metadata": {},
   "outputs": [
    {
     "data": {
      "text/html": [
       "<div>\n",
       "<style scoped>\n",
       "    .dataframe tbody tr th:only-of-type {\n",
       "        vertical-align: middle;\n",
       "    }\n",
       "\n",
       "    .dataframe tbody tr th {\n",
       "        vertical-align: top;\n",
       "    }\n",
       "\n",
       "    .dataframe thead th {\n",
       "        text-align: right;\n",
       "    }\n",
       "</style>\n",
       "<table border=\"1\" class=\"dataframe\">\n",
       "  <thead>\n",
       "    <tr style=\"text-align: right;\">\n",
       "      <th></th>\n",
       "      <th>区域</th>\n",
       "      <th>数量</th>\n",
       "    </tr>\n",
       "  </thead>\n",
       "  <tbody>\n",
       "    <tr>\n",
       "      <th>0</th>\n",
       "      <td>东城</td>\n",
       "      <td>0</td>\n",
       "    </tr>\n",
       "    <tr>\n",
       "      <th>1</th>\n",
       "      <td>丰台</td>\n",
       "      <td>0</td>\n",
       "    </tr>\n",
       "    <tr>\n",
       "      <th>2</th>\n",
       "      <td>亦庄开发区</td>\n",
       "      <td>0</td>\n",
       "    </tr>\n",
       "    <tr>\n",
       "      <th>3</th>\n",
       "      <td>大兴</td>\n",
       "      <td>0</td>\n",
       "    </tr>\n",
       "    <tr>\n",
       "      <th>4</th>\n",
       "      <td>房山</td>\n",
       "      <td>0</td>\n",
       "    </tr>\n",
       "    <tr>\n",
       "      <th>5</th>\n",
       "      <td>昌平</td>\n",
       "      <td>0</td>\n",
       "    </tr>\n",
       "    <tr>\n",
       "      <th>6</th>\n",
       "      <td>朝阳</td>\n",
       "      <td>0</td>\n",
       "    </tr>\n",
       "    <tr>\n",
       "      <th>7</th>\n",
       "      <td>海淀</td>\n",
       "      <td>0</td>\n",
       "    </tr>\n",
       "    <tr>\n",
       "      <th>8</th>\n",
       "      <td>石景山</td>\n",
       "      <td>0</td>\n",
       "    </tr>\n",
       "    <tr>\n",
       "      <th>9</th>\n",
       "      <td>西城</td>\n",
       "      <td>0</td>\n",
       "    </tr>\n",
       "    <tr>\n",
       "      <th>10</th>\n",
       "      <td>通州</td>\n",
       "      <td>0</td>\n",
       "    </tr>\n",
       "    <tr>\n",
       "      <th>11</th>\n",
       "      <td>门头沟</td>\n",
       "      <td>0</td>\n",
       "    </tr>\n",
       "    <tr>\n",
       "      <th>12</th>\n",
       "      <td>顺义</td>\n",
       "      <td>0</td>\n",
       "    </tr>\n",
       "  </tbody>\n",
       "</table>\n",
       "</div>"
      ],
      "text/plain": [
       "       区域  数量\n",
       "0      东城   0\n",
       "1      丰台   0\n",
       "2   亦庄开发区   0\n",
       "3      大兴   0\n",
       "4      房山   0\n",
       "5      昌平   0\n",
       "6      朝阳   0\n",
       "7      海淀   0\n",
       "8     石景山   0\n",
       "9      西城   0\n",
       "10     通州   0\n",
       "11    门头沟   0\n",
       "12     顺义   0"
      ]
     },
     "execution_count": 30,
     "metadata": {},
     "output_type": "execute_result"
    }
   ],
   "source": [
    "areas=file_data[\"区域\"].unique()\n",
    "new_df=pd.DataFrame({\"区域\":file_data[\"区域\"].unique(),\"数量\":[0]*len(areas)})\n",
    "new_df"
   ]
  },
  {
   "cell_type": "code",
   "execution_count": 31,
   "id": "2e576a7d",
   "metadata": {},
   "outputs": [
    {
     "data": {
      "text/html": [
       "<div>\n",
       "<style scoped>\n",
       "    .dataframe tbody tr th:only-of-type {\n",
       "        vertical-align: middle;\n",
       "    }\n",
       "\n",
       "    .dataframe tbody tr th {\n",
       "        vertical-align: top;\n",
       "    }\n",
       "\n",
       "    .dataframe thead th {\n",
       "        text-align: right;\n",
       "    }\n",
       "</style>\n",
       "<table border=\"1\" class=\"dataframe\">\n",
       "  <thead>\n",
       "    <tr style=\"text-align: right;\">\n",
       "      <th></th>\n",
       "      <th>区域</th>\n",
       "      <th>数量</th>\n",
       "    </tr>\n",
       "  </thead>\n",
       "  <tbody>\n",
       "    <tr>\n",
       "      <th>0</th>\n",
       "      <td>东城</td>\n",
       "      <td>282</td>\n",
       "    </tr>\n",
       "    <tr>\n",
       "      <th>1</th>\n",
       "      <td>丰台</td>\n",
       "      <td>577</td>\n",
       "    </tr>\n",
       "    <tr>\n",
       "      <th>2</th>\n",
       "      <td>亦庄开发区</td>\n",
       "      <td>147</td>\n",
       "    </tr>\n",
       "    <tr>\n",
       "      <th>3</th>\n",
       "      <td>大兴</td>\n",
       "      <td>362</td>\n",
       "    </tr>\n",
       "    <tr>\n",
       "      <th>4</th>\n",
       "      <td>房山</td>\n",
       "      <td>180</td>\n",
       "    </tr>\n",
       "    <tr>\n",
       "      <th>5</th>\n",
       "      <td>昌平</td>\n",
       "      <td>347</td>\n",
       "    </tr>\n",
       "    <tr>\n",
       "      <th>6</th>\n",
       "      <td>朝阳</td>\n",
       "      <td>1597</td>\n",
       "    </tr>\n",
       "    <tr>\n",
       "      <th>7</th>\n",
       "      <td>海淀</td>\n",
       "      <td>605</td>\n",
       "    </tr>\n",
       "    <tr>\n",
       "      <th>8</th>\n",
       "      <td>石景山</td>\n",
       "      <td>175</td>\n",
       "    </tr>\n",
       "    <tr>\n",
       "      <th>9</th>\n",
       "      <td>西城</td>\n",
       "      <td>442</td>\n",
       "    </tr>\n",
       "    <tr>\n",
       "      <th>10</th>\n",
       "      <td>通州</td>\n",
       "      <td>477</td>\n",
       "    </tr>\n",
       "    <tr>\n",
       "      <th>11</th>\n",
       "      <td>门头沟</td>\n",
       "      <td>285</td>\n",
       "    </tr>\n",
       "    <tr>\n",
       "      <th>12</th>\n",
       "      <td>顺义</td>\n",
       "      <td>297</td>\n",
       "    </tr>\n",
       "  </tbody>\n",
       "</table>\n",
       "</div>"
      ],
      "text/plain": [
       "       区域    数量\n",
       "0      东城   282\n",
       "1      丰台   577\n",
       "2   亦庄开发区   147\n",
       "3      大兴   362\n",
       "4      房山   180\n",
       "5      昌平   347\n",
       "6      朝阳  1597\n",
       "7      海淀   605\n",
       "8     石景山   175\n",
       "9      西城   442\n",
       "10     通州   477\n",
       "11    门头沟   285\n",
       "12     顺义   297"
      ]
     },
     "execution_count": 31,
     "metadata": {},
     "output_type": "execute_result"
    }
   ],
   "source": [
    "##通过 Pandas的 groupby()⽅法将 file data对象按照“区域”⼀列进⾏分组，并利⽤count()⽅法统计每个分组的数量\n",
    "\n",
    "groupby_data=file_data.groupby(by=\"区域\").count()\n",
    "\n",
    "new_df[\"数量\"]=groupby_data.values\n",
    "new_df"
   ]
  },
  {
   "cell_type": "code",
   "execution_count": 32,
   "id": "7c27360f",
   "metadata": {},
   "outputs": [
    {
     "data": {
      "text/plain": [
       "<bound method DataFrame.info of        小区名称    户型  面积(㎡)  价格(元/月)\n",
       "区域                               \n",
       "东城      282   282    282      282\n",
       "丰台      577   577    577      577\n",
       "亦庄开发区   147   147    147      147\n",
       "大兴      362   362    362      362\n",
       "房山      180   180    180      180\n",
       "昌平      347   347    347      347\n",
       "朝阳     1597  1597   1597     1597\n",
       "海淀      605   605    605      605\n",
       "石景山     175   175    175      175\n",
       "西城      442   442    442      442\n",
       "通州      477   477    477      477\n",
       "门头沟     285   285    285      285\n",
       "顺义      297   297    297      297>"
      ]
     },
     "execution_count": 32,
     "metadata": {},
     "output_type": "execute_result"
    }
   ],
   "source": [
    "groupby_data.info"
   ]
  },
  {
   "cell_type": "code",
   "execution_count": 33,
   "id": "8920a636",
   "metadata": {},
   "outputs": [
    {
     "data": {
      "text/html": [
       "<div>\n",
       "<style scoped>\n",
       "    .dataframe tbody tr th:only-of-type {\n",
       "        vertical-align: middle;\n",
       "    }\n",
       "\n",
       "    .dataframe tbody tr th {\n",
       "        vertical-align: top;\n",
       "    }\n",
       "\n",
       "    .dataframe thead th {\n",
       "        text-align: right;\n",
       "    }\n",
       "</style>\n",
       "<table border=\"1\" class=\"dataframe\">\n",
       "  <thead>\n",
       "    <tr style=\"text-align: right;\">\n",
       "      <th></th>\n",
       "      <th>区域</th>\n",
       "      <th>数量</th>\n",
       "    </tr>\n",
       "  </thead>\n",
       "  <tbody>\n",
       "    <tr>\n",
       "      <th>6</th>\n",
       "      <td>朝阳</td>\n",
       "      <td>1597</td>\n",
       "    </tr>\n",
       "    <tr>\n",
       "      <th>7</th>\n",
       "      <td>海淀</td>\n",
       "      <td>605</td>\n",
       "    </tr>\n",
       "    <tr>\n",
       "      <th>1</th>\n",
       "      <td>丰台</td>\n",
       "      <td>577</td>\n",
       "    </tr>\n",
       "    <tr>\n",
       "      <th>10</th>\n",
       "      <td>通州</td>\n",
       "      <td>477</td>\n",
       "    </tr>\n",
       "    <tr>\n",
       "      <th>9</th>\n",
       "      <td>西城</td>\n",
       "      <td>442</td>\n",
       "    </tr>\n",
       "    <tr>\n",
       "      <th>3</th>\n",
       "      <td>大兴</td>\n",
       "      <td>362</td>\n",
       "    </tr>\n",
       "    <tr>\n",
       "      <th>5</th>\n",
       "      <td>昌平</td>\n",
       "      <td>347</td>\n",
       "    </tr>\n",
       "    <tr>\n",
       "      <th>12</th>\n",
       "      <td>顺义</td>\n",
       "      <td>297</td>\n",
       "    </tr>\n",
       "    <tr>\n",
       "      <th>11</th>\n",
       "      <td>门头沟</td>\n",
       "      <td>285</td>\n",
       "    </tr>\n",
       "    <tr>\n",
       "      <th>0</th>\n",
       "      <td>东城</td>\n",
       "      <td>282</td>\n",
       "    </tr>\n",
       "    <tr>\n",
       "      <th>4</th>\n",
       "      <td>房山</td>\n",
       "      <td>180</td>\n",
       "    </tr>\n",
       "    <tr>\n",
       "      <th>8</th>\n",
       "      <td>石景山</td>\n",
       "      <td>175</td>\n",
       "    </tr>\n",
       "    <tr>\n",
       "      <th>2</th>\n",
       "      <td>亦庄开发区</td>\n",
       "      <td>147</td>\n",
       "    </tr>\n",
       "  </tbody>\n",
       "</table>\n",
       "</div>"
      ],
      "text/plain": [
       "       区域    数量\n",
       "6      朝阳  1597\n",
       "7      海淀   605\n",
       "1      丰台   577\n",
       "10     通州   477\n",
       "9      西城   442\n",
       "3      大兴   362\n",
       "5      昌平   347\n",
       "12     顺义   297\n",
       "11    门头沟   285\n",
       "0      东城   282\n",
       "4      房山   180\n",
       "8     石景山   175\n",
       "2   亦庄开发区   147"
      ]
     },
     "execution_count": 33,
     "metadata": {},
     "output_type": "execute_result"
    }
   ],
   "source": [
    "new_df.sort_values(by=\"数量\",ascending=False)"
   ]
  },
  {
   "cell_type": "markdown",
   "id": "d5359595",
   "metadata": {},
   "source": [
    "# 户型数量分析"
   ]
  },
  {
   "cell_type": "code",
   "execution_count": 45,
   "id": "492ad51e",
   "metadata": {},
   "outputs": [
    {
     "data": {
      "text/plain": [
       "0    1室0厅\n",
       "1    3室0厅\n",
       "2    1室1厅\n",
       "3    2室1厅\n",
       "4    1室1厅\n",
       "Name: 户型, dtype: object"
      ]
     },
     "execution_count": 45,
     "metadata": {},
     "output_type": "execute_result"
    }
   ],
   "source": [
    "house_data=file_data[\"户型\"]\n",
    "house_data.head()"
   ]
  },
  {
   "cell_type": "code",
   "execution_count": 60,
   "id": "8bd82208",
   "metadata": {},
   "outputs": [
    {
     "data": {
      "text/plain": [
       "{'0室0厅': 1,\n",
       " '1室0卫': 10,\n",
       " '1室0厅': 244,\n",
       " '1室1卫': 126,\n",
       " '1室1厅': 844,\n",
       " '1室2厅': 13,\n",
       " '2室0卫': 1,\n",
       " '2室0厅': 23,\n",
       " '2室1卫': 120,\n",
       " '2室1厅': 2249,\n",
       " '2室2卫': 22,\n",
       " '2室2厅': 265,\n",
       " '2室3厅': 1,\n",
       " '3室0卫': 3,\n",
       " '3室0厅': 12,\n",
       " '3室1卫': 92,\n",
       " '3室1厅': 766,\n",
       " '3室2卫': 48,\n",
       " '3室2厅': 489,\n",
       " '3室3卫': 1,\n",
       " '3室3厅': 10,\n",
       " '4室1卫': 15,\n",
       " '4室1厅': 58,\n",
       " '4室2卫': 24,\n",
       " '4室2厅': 191,\n",
       " '4室3卫': 5,\n",
       " '4室3厅': 9,\n",
       " '4室5厅': 2,\n",
       " '5室0卫': 1,\n",
       " '5室0厅': 1,\n",
       " '5室1卫': 3,\n",
       " '5室1厅': 7,\n",
       " '5室2卫': 7,\n",
       " '5室2厅': 49,\n",
       " '5室3卫': 3,\n",
       " '5室3厅': 24,\n",
       " '5室4厅': 1,\n",
       " '5室5厅': 1,\n",
       " '6室0厅': 1,\n",
       " '6室1卫': 1,\n",
       " '6室1厅': 1,\n",
       " '6室2厅': 5,\n",
       " '6室3卫': 2,\n",
       " '6室3厅': 6,\n",
       " '6室4卫': 2,\n",
       " '7室1厅': 1,\n",
       " '7室2厅': 2,\n",
       " '7室3厅': 3,\n",
       " '7室4厅': 1,\n",
       " '8室4厅': 2,\n",
       " '9室1厅': 2,\n",
       " '9室2厅': 1,\n",
       " '9室5厅': 2}"
      ]
     },
     "execution_count": 60,
     "metadata": {},
     "output_type": "execute_result"
    }
   ],
   "source": [
    "def all_house(arr):\n",
    "    key=np.unique(arr)\n",
    "    result={}\n",
    "    for k in key:\n",
    "        mask=(arr==k)\n",
    "        arr_new=arr[mask] #print(arr_new)\n",
    "        v=arr_new.size\n",
    "        result[k]=v\n",
    "    return(result)\n",
    "        \n",
    "house_array=file_data[\"户型\"]\n",
    "house_info=all_house(house_array)\n",
    "house_info"
   ]
  },
  {
   "cell_type": "code",
   "execution_count": 61,
   "id": "02e8b160",
   "metadata": {},
   "outputs": [
    {
     "data": {
      "text/html": [
       "<div>\n",
       "<style scoped>\n",
       "    .dataframe tbody tr th:only-of-type {\n",
       "        vertical-align: middle;\n",
       "    }\n",
       "\n",
       "    .dataframe tbody tr th {\n",
       "        vertical-align: top;\n",
       "    }\n",
       "\n",
       "    .dataframe thead th {\n",
       "        text-align: right;\n",
       "    }\n",
       "</style>\n",
       "<table border=\"1\" class=\"dataframe\">\n",
       "  <thead>\n",
       "    <tr style=\"text-align: right;\">\n",
       "      <th></th>\n",
       "      <th>户型</th>\n",
       "      <th>数量</th>\n",
       "    </tr>\n",
       "  </thead>\n",
       "  <tbody>\n",
       "    <tr>\n",
       "      <th>0</th>\n",
       "      <td>1室0厅</td>\n",
       "      <td>244</td>\n",
       "    </tr>\n",
       "    <tr>\n",
       "      <th>1</th>\n",
       "      <td>1室1卫</td>\n",
       "      <td>126</td>\n",
       "    </tr>\n",
       "    <tr>\n",
       "      <th>2</th>\n",
       "      <td>1室1厅</td>\n",
       "      <td>844</td>\n",
       "    </tr>\n",
       "    <tr>\n",
       "      <th>3</th>\n",
       "      <td>2室1卫</td>\n",
       "      <td>120</td>\n",
       "    </tr>\n",
       "    <tr>\n",
       "      <th>4</th>\n",
       "      <td>2室1厅</td>\n",
       "      <td>2249</td>\n",
       "    </tr>\n",
       "    <tr>\n",
       "      <th>5</th>\n",
       "      <td>2室2厅</td>\n",
       "      <td>265</td>\n",
       "    </tr>\n",
       "    <tr>\n",
       "      <th>6</th>\n",
       "      <td>3室1卫</td>\n",
       "      <td>92</td>\n",
       "    </tr>\n",
       "    <tr>\n",
       "      <th>7</th>\n",
       "      <td>3室1厅</td>\n",
       "      <td>766</td>\n",
       "    </tr>\n",
       "    <tr>\n",
       "      <th>8</th>\n",
       "      <td>3室2厅</td>\n",
       "      <td>489</td>\n",
       "    </tr>\n",
       "    <tr>\n",
       "      <th>9</th>\n",
       "      <td>4室1厅</td>\n",
       "      <td>58</td>\n",
       "    </tr>\n",
       "    <tr>\n",
       "      <th>10</th>\n",
       "      <td>4室2厅</td>\n",
       "      <td>191</td>\n",
       "    </tr>\n",
       "  </tbody>\n",
       "</table>\n",
       "</div>"
      ],
      "text/plain": [
       "      户型    数量\n",
       "0   1室0厅   244\n",
       "1   1室1卫   126\n",
       "2   1室1厅   844\n",
       "3   2室1卫   120\n",
       "4   2室1厅  2249\n",
       "5   2室2厅   265\n",
       "6   3室1卫    92\n",
       "7   3室1厅   766\n",
       "8   3室2厅   489\n",
       "9   4室1厅    58\n",
       "10  4室2厅   191"
      ]
     },
     "execution_count": 61,
     "metadata": {},
     "output_type": "execute_result"
    }
   ],
   "source": [
    "house_type=dict((key,value) for key, value in house_info.items() if  value >50)\n",
    "show_house=pd.DataFrame({'户型': [x for x in house_type.keys()],'数量':[x for x in house_type.values()]})\n",
    "pd.set_option(\"display.max_columns\",None)\n",
    "pd.set_option(\"display.max_rows\",None)\n",
    "show_house\n"
   ]
  },
  {
   "cell_type": "code",
   "execution_count": 67,
   "id": "ea092ea6",
   "metadata": {},
   "outputs": [
    {
     "data": {
      "text/plain": [
       "<function matplotlib.pyplot.show(close=None, block=None)>"
      ]
     },
     "execution_count": 67,
     "metadata": {},
     "output_type": "execute_result"
    },
    {
     "data": {
      "image/png": "[encoded data removed]",
      "text/plain": [
       "<Figure size 640x480 with 1 Axes>"
      ]
     },
     "metadata": {},
     "output_type": "display_data"
    }
   ],
   "source": [
    "import matplotlib.pyplot as plt \n",
    "from pylab import *\n",
    "mpl.rcParams['font.sans-serif'] = ['SimHei']\n",
    "house_type=show_house[\"户型\"]\n",
    "house_type_num=show_house[\"数量\"]\n",
    "plt.barh(range(11),house_type_num,height=0.7,color=\"steelblue\",alpha=0.8)\n",
    "plt.yticks(range(11),house_type)\n",
    "plt.xlim(0,2500)\n",
    "plt.title(\"北京市各区域租房数量统计\")\n",
    "plt.xlabel(\"数量\")\n",
    "plt.ylabel(\"户型\")\n",
    "\n",
    "##给每个条上面添加数字\n",
    "for x,y in enumerate(house_type_num):\n",
    "    #print(x,y)\n",
    "    plt.text(y,x,\"%s\" %y)\n",
    "    \n",
    "plt.show"
   ]
  },
  {
   "cell_type": "code",
   "execution_count": null,
   "id": "e3b25d85",
   "metadata": {},
   "outputs": [],
   "source": []
  }
 ],
 "metadata": {
  "kernelspec": {
   "display_name": "Python 3 (ipykernel)",
   "language": "python",
   "name": "python3"
  },
  "language_info": {
   "codemirror_mode": {
    "name": "ipython",
    "version": 3
   },
   "file_extension": ".py",
   "mimetype": "text/x-python",
   "name": "python",
   "nbconvert_exporter": "python",
   "pygments_lexer": "ipython3",
   "version": "3.10.9"
  }
 },
 "nbformat": 4,
 "nbformat_minor": 5
}
