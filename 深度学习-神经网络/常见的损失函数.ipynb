{
 "cells": [
  {
   "cell_type": "markdown",
   "metadata": {},
   "source": [
    "#1、多分类交叉熵损失"
   ]
  },
  {
   "cell_type": "code",
   "execution_count": 5,
   "metadata": {},
   "outputs": [
    {
     "data": {
      "text/plain": [
       "<tf.Tensor: shape=(), dtype=float32, numpy=1.1769392>"
      ]
     },
     "execution_count": 5,
     "metadata": {},
     "output_type": "execute_result"
    }
   ],
   "source": [
    "import tensorflow as tf\n",
    "import numpy as np\n",
    "#设置真实值和预测值\n",
    "y_true = [[0, 1, 0], [0, 0, 1]]\n",
    "y_pred = [[0.05, 0.95, 0], [0.1, 0.8, 0.1]]\n",
    "#实例化交叉熵损失函数\n",
    "cce=tf.keras.losses.CategoricalCrossentropy()\n",
    "#计算损失值\n",
    "cce(y_true,y_pred).numpy()\n"
   ]
  },
  {
   "cell_type": "markdown",
   "metadata": {},
   "source": [
    "#2、二分类的交叉熵损失函数"
   ]
  },
  {
   "cell_type": "code",
   "execution_count": 8,
   "metadata": {},
   "outputs": [
    {
     "data": {
      "text/plain": [
       "0.10536041"
      ]
     },
     "execution_count": 8,
     "metadata": {},
     "output_type": "execute_result"
    }
   ],
   "source": [
    "# 导⼊相应的包\n",
    "import tensorflow as tf\n",
    "# 设置真实值和预测值\n",
    "y_true = [[0], [1]]\n",
    "y_pred = [[0.1], [0.9]]\n",
    "# 实例化⼆分类交叉熵损失\n",
    "bce = tf.keras.losses.BinaryCrossentropy()\n",
    "# 计算损失结果\n",
    "bce(y_true, y_pred).numpy()"
   ]
  },
  {
   "cell_type": "markdown",
   "metadata": {},
   "source": [
    "回归损失函数"
   ]
  },
  {
   "cell_type": "markdown",
   "metadata": {},
   "source": [
    "3、L1(MAE损失)"
   ]
  },
  {
   "cell_type": "code",
   "execution_count": 10,
   "metadata": {},
   "outputs": [
    {
     "data": {
      "text/plain": [
       "0.95"
      ]
     },
     "execution_count": 10,
     "metadata": {},
     "output_type": "execute_result"
    }
   ],
   "source": [
    "# 导⼊相应的包\n",
    "import tensorflow as tf\n",
    "# 设置真实值和预测值\n",
    "y_true = [[0.], [0.]]\n",
    "y_pred = [[1.], [0.9]]\n",
    "# 实例化MAE损失\n",
    "mae = tf.keras.losses.MeanAbsoluteError()\n",
    "# 计算损失结果\n",
    "mae(y_true, y_pred).numpy()\n"
   ]
  },
  {
   "cell_type": "markdown",
   "metadata": {},
   "source": [
    "4、L2损失（MSE损失）"
   ]
  },
  {
   "cell_type": "code",
   "execution_count": 11,
   "metadata": {},
   "outputs": [
    {
     "data": {
      "text/plain": [
       "0.5"
      ]
     },
     "execution_count": 11,
     "metadata": {},
     "output_type": "execute_result"
    }
   ],
   "source": [
    "# 导⼊相应的包\n",
    "import tensorflow as tf\n",
    "# 设置真实值和预测值\n",
    "y_true = [[0.], [1.]]\n",
    "y_pred = [[1.], [1.]]\n",
    "# 实例化MSE损失\n",
    "mse = tf.keras.losses.MeanSquaredError()\n",
    "# 计算损失结果\n",
    "mse(y_true, y_pred).numpy()\n"
   ]
  },
  {
   "cell_type": "markdown",
   "metadata": {},
   "source": [
    "5、smooth L1 损失\n"
   ]
  },
  {
   "cell_type": "code",
   "execution_count": 13,
   "metadata": {},
   "outputs": [
    {
     "data": {
      "text/plain": [
       "0.08"
      ]
     },
     "execution_count": 13,
     "metadata": {},
     "output_type": "execute_result"
    }
   ],
   "source": [
    "# 导⼊相应的包\n",
    "import tensorflow as tf\n",
    "# 设置真实值和预测值\n",
    "y_true = [[0], [1]]\n",
    "y_pred = [[0.4], [0.6]]\n",
    "# 实例化smooth L1损失\n",
    "h = tf.keras.losses.Huber()\n",
    "# 计算损失结果\n",
    "h(y_true, y_pred).numpy()\n"
   ]
  },
  {
   "cell_type": "code",
   "execution_count": null,
   "metadata": {},
   "outputs": [],
   "source": []
  },
  {
   "cell_type": "code",
   "execution_count": null,
   "metadata": {},
   "outputs": [],
   "source": []
  },
  {
   "cell_type": "code",
   "execution_count": null,
   "metadata": {},
   "outputs": [],
   "source": []
  }
 ],
 "metadata": {
  "kernelspec": {
   "display_name": "tf-gpu",
   "language": "python",
   "name": "python3"
  },
  "language_info": {
   "codemirror_mode": {
    "name": "ipython",
    "version": 3
   },
   "file_extension": ".py",
   "mimetype": "text/x-python",
   "name": "python",
   "nbconvert_exporter": "python",
   "pygments_lexer": "ipython3",
   "version": "3.7.12"
  }
 },
 "nbformat": 4,
 "nbformat_minor": 2
}
