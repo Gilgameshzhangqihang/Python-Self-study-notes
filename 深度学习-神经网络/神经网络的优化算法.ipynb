{
 "cells": [
  {
   "cell_type": "markdown",
   "metadata": {},
   "source": [
    "1、梯度下降算法"
   ]
  },
  {
   "cell_type": "code",
   "execution_count": 1,
   "metadata": {},
   "outputs": [
    {
     "data": {
      "text/plain": [
       "0.9"
      ]
     },
     "execution_count": 1,
     "metadata": {},
     "output_type": "execute_result"
    }
   ],
   "source": [
    "# 导⼊相应的⼯具包\n",
    "import tensorflow as tf\n",
    "# 实例化优化⽅法：SGD \n",
    "opt = tf.keras.optimizers.SGD(learning_rate=0.1)       # 学习率为0.1\n",
    "# 定义要调整的参数\n",
    "var = tf.Variable(1.0)\n",
    "# 定义损失函数：⽆参但有返回值\n",
    "loss = lambda: (var ** 2)/2.0       # `var`的平⽅除以2导数为`var`  1-0.1*var=0.9\n",
    "# 计算梯度，并对参数进⾏更新，步⻓为 `- learning_rate * grad`\n",
    "opt.minimize(loss, [var]).numpy()\n",
    "# 展示参数更新结果\n",
    "var.numpy()"
   ]
  },
  {
   "cell_type": "markdown",
   "metadata": {},
   "source": [
    "动量梯度下降算法"
   ]
  },
  {
   "cell_type": "code",
   "execution_count": 2,
   "metadata": {},
   "outputs": [
    {
     "name": "stdout",
     "output_type": "stream",
     "text": [
      "第⼀次更新步⻓=0.10000002384185791\n",
      "第⼆次更新步⻓=0.18000000715255737\n"
     ]
    }
   ],
   "source": [
    "# 导⼊相应的⼯具包\n",
    "import tensorflow as tf\n",
    "# 实例化优化⽅法：SGD 指定参数beta=0.9\n",
    "opt = tf.keras.optimizers.SGD(learning_rate=0.1, momentum=0.9)\n",
    "# 定义要调整的参数，初始值\n",
    "var = tf.Variable(1.0)\n",
    "val0 = var.value()\n",
    "# 定义损失函数\n",
    "loss = lambda: (var ** 2)/2.0 \n",
    "#第⼀次更新：计算梯度，并对参数进⾏更新，步⻓为 `- learning_rate * \n",
    "opt.minimize(loss, [var]).numpy()\n",
    "val1 = var.value()\n",
    "# 第⼆次更新：计算梯度，并对参数进⾏更新，因为加⼊了momentum,步⻓会增加\n",
    "opt.minimize(loss, [var]).numpy()\n",
    "val2 = var.value()\n",
    "# 打印两次更新的步⻓\n",
    "print(\"第⼀次更新步⻓={}\".format((val0 - val1).numpy()))\n",
    "print(\"第⼆次更新步⻓={}\".format((val1 - val2).numpy()))\n"
   ]
  },
  {
   "cell_type": "markdown",
   "metadata": {},
   "source": [
    "adagrad\n"
   ]
  },
  {
   "cell_type": "code",
   "execution_count": 3,
   "metadata": {},
   "outputs": [
    {
     "data": {
      "text/plain": [
       "0.9046537"
      ]
     },
     "execution_count": 3,
     "metadata": {},
     "output_type": "execute_result"
    }
   ],
   "source": [
    "# 导⼊相应的⼯具包\n",
    "import tensorflow as tf\n",
    "# 实例化优化⽅法：SGD\n",
    "opt = tf.keras.optimizers.Adagrad(learning_rate=0.1, initial_accumulator_value=0.1, epsilon=1e-07)\n",
    "# 定义要调整的参数\n",
    "var = tf.Variable(1.0)\n",
    "# 定义损失函数：⽆参但有返回值\n",
    "def loss(): \n",
    "    return (var ** 2)/2.0\n",
    "# 计算梯度，并对参数进⾏更新，\n",
    "opt.minimize(loss, [var]).numpy()\n",
    "# 展示参数更新结果\n",
    "var.numpy()\n"
   ]
  },
  {
   "cell_type": "markdown",
   "metadata": {},
   "source": [
    "RMSprop"
   ]
  },
  {
   "cell_type": "code",
   "execution_count": 6,
   "metadata": {},
   "outputs": [
    {
     "data": {
      "text/plain": [
       "0.6837723"
      ]
     },
     "execution_count": 6,
     "metadata": {},
     "output_type": "execute_result"
    }
   ],
   "source": [
    "# 导⼊相应的⼯具包\n",
    "import tensorflow as tf\n",
    "# 实例化优化⽅法RMSprop\n",
    "opt = tf.keras.optimizers.RMSprop(learning_rate=0.1,rho=0.9)\n",
    "# 定义要调整的参数\n",
    "var = tf.Variable(1.0)\n",
    "# 定义损失函数：⽆参但有返回值\n",
    "def loss(): return (var ** 2)/2.0\n",
    "# 计算梯度，并对参数进⾏更新，\n",
    "opt.minimize(loss, [var]).numpy()\n",
    "# 展示参数更新结果\n",
    "var.numpy()\n"
   ]
  },
  {
   "cell_type": "markdown",
   "metadata": {},
   "source": [
    "Adam\n"
   ]
  },
  {
   "cell_type": "code",
   "execution_count": 9,
   "metadata": {},
   "outputs": [
    {
     "data": {
      "text/plain": [
       "0.9499987"
      ]
     },
     "execution_count": 9,
     "metadata": {},
     "output_type": "execute_result"
    }
   ],
   "source": [
    "# 导⼊相应的⼯具包\n",
    "import tensorflow as tf\n",
    "# 实例化优化⽅法Adam\n",
    "opt = tf.keras.optimizers.Adam(learning_rate=0.05)\n",
    "# 定义要调整的参数\n",
    "var = tf.Variable(1.0)\n",
    "# 定义损失函数：⽆参但有返回值\n",
    "def loss(): return (var ** 2)/2.0\n",
    "# 计算梯度，并对参数进⾏更新，\n",
    "opt.minimize(loss, [var]).numpy()\n",
    "# 展示参数更新结果\n",
    "var.numpy()\n"
   ]
  },
  {
   "cell_type": "markdown",
   "metadata": {},
   "source": [
    "学习率退火"
   ]
  },
  {
   "cell_type": "code",
   "execution_count": 12,
   "metadata": {},
   "outputs": [
    {
     "data": {
      "text/plain": [
       "<tensorflow.python.keras.optimizer_v2.learning_rate_schedule.PiecewiseConstantDecay at 0x1e90101a8c8>"
      ]
     },
     "execution_count": 12,
     "metadata": {},
     "output_type": "execute_result"
    }
   ],
   "source": [
    "boundaries = [1000000,2000000]\n",
    "values = [1.0, 0.5, 0.1]\n",
    "tf.keras.optimizers.schedules.PiecewiseConstantDecay(boundaries, values)"
   ]
  },
  {
   "cell_type": "markdown",
   "metadata": {},
   "source": [
    "2、tf.keras.optimizers.schedules.ExponentialDecay\n",
    "\n",
    "\n",
    "3、tf.keras.optimizers.schedules.InverseTimeDecay"
   ]
  }
 ],
 "metadata": {
  "kernelspec": {
   "display_name": "tf-gpu",
   "language": "python",
   "name": "python3"
  },
  "language_info": {
   "codemirror_mode": {
    "name": "ipython",
    "version": 3
   },
   "file_extension": ".py",
   "mimetype": "text/x-python",
   "name": "python",
   "nbconvert_exporter": "python",
   "pygments_lexer": "ipython3",
   "version": "3.7.12"
  }
 },
 "nbformat": 4,
 "nbformat_minor": 2
}
