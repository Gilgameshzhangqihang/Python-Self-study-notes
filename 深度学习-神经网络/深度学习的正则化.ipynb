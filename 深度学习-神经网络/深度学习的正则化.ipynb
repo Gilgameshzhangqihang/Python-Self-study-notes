{
 "cells": [
  {
   "cell_type": "markdown",
   "metadata": {},
   "source": [
    "L1、L2正则化"
   ]
  },
  {
   "cell_type": "code",
   "execution_count": null,
   "metadata": {},
   "outputs": [],
   "source": [
    "# 导⼊相应的⼯具包\n",
    "import tensorflow as tf\n",
    "from tensorflow.keras import regularizers\n",
    "# 创建模型\n",
    "model = tf.keras.models.Sequential()\n",
    "# L2正则化，lambda为0.01\n",
    "model.add(tf.keras.layers.Dense(16, kernel_regularizer=regularizers.l2(0.01) , activation='relu', input_shape=(10,)))\n",
    "# L1正则化，lambda为0.01\n",
    "model.add(tf.keras.layers.Dense(16, kernel_regularizer=regularizers.l1(0.01), activation='relu'))\n",
    "# L1和L2正则化，lambda为0.01\n",
    "model.add(tf.keras.layers.Dense(16, kernel_regularizer=regularizers.l1_l2(0.01), activation='relu'))\n"
   ]
  },
  {
   "cell_type": "markdown",
   "metadata": {},
   "source": [
    "Dropout正则化"
   ]
  },
  {
   "cell_type": "code",
   "execution_count": 1,
   "metadata": {},
   "outputs": [
    {
     "name": "stdout",
     "output_type": "stream",
     "text": [
      "[[ 1.  2.]\n",
      " [ 3.  4.]\n",
      " [ 5.  6.]\n",
      " [ 7.  8.]\n",
      " [ 9. 10.]]\n",
      "tf.Tensor(\n",
      "[[ 0.    2.5 ]\n",
      " [ 3.75  5.  ]\n",
      " [ 6.25  7.5 ]\n",
      " [ 0.   10.  ]\n",
      " [11.25 12.5 ]], shape=(5, 2), dtype=float32)\n"
     ]
    }
   ],
   "source": [
    "# 导⼊相应的库\n",
    "import numpy as np\n",
    "import tensorflow as tf\n",
    "# 定义dropout层,每⼀个神经元有0.2的概率被失活，未被失活的输⼊将按1 / (1 - rate)缩放\n",
    "layer = tf.keras.layers.Dropout(0.2,input_shape=(2,))\n",
    "# 定义五个批次的数据\n",
    "data = np.arange(1,11).reshape(5, 2).astype(np.float32)\n",
    "# 原始数据进⾏打印\n",
    "print(data)\n",
    "# 进⾏随机失活：在training模式中，返回应⽤dropout后的输出\n",
    "outputs = layer(data,training=True)\n",
    "# 打印失活后的结果\n",
    "print(outputs)"
   ]
  },
  {
   "cell_type": "markdown",
   "metadata": {},
   "source": [
    "提前停止"
   ]
  },
  {
   "cell_type": "code",
   "execution_count": 3,
   "metadata": {},
   "outputs": [
    {
     "name": "stdout",
     "output_type": "stream",
     "text": [
      "Epoch 1/10\n",
      "5/5 [==============================] - 0s 2ms/step - loss: 755562331655634944.0000\n",
      "Epoch 2/10\n",
      "5/5 [==============================] - 0s 1ms/step - loss: 7591982346657592665098841130795008.0000\n",
      "Epoch 3/10\n",
      "5/5 [==============================] - 0s 1000us/step - loss: inf\n",
      "Epoch 4/10\n",
      "5/5 [==============================] - 0s 1ms/step - loss: inf\n"
     ]
    },
    {
     "data": {
      "text/plain": [
       "4"
      ]
     },
     "execution_count": 3,
     "metadata": {},
     "output_type": "execute_result"
    }
   ],
   "source": [
    "# 导⼊相应的⼯具包\n",
    "import tensorflow as tf\n",
    "import numpy as np\n",
    "# 当连续3个epoch loss不下降则停⽌训练\n",
    "callback = tf.keras.callbacks.EarlyStopping(monitor='loss', patience=3)\n",
    "# 定义只有⼀层的神经⽹络\n",
    "model = tf.keras.models.Sequential([tf.keras.layers.Dense(10)])\n",
    "# 设置损失函数和梯度下降算法\n",
    "model.compile(tf.keras.optimizers.SGD(), loss='mse')\n",
    "# 模型训练\n",
    "history = model.fit(np.arange(100).reshape(5, 20), np.array([0,1,2,1,2]),\n",
    " epochs=10, batch_size=1, callbacks=[callback],\n",
    " verbose=1)\n",
    "# 打印运⾏的epoch\n",
    "len(history.history['loss'])"
   ]
  },
  {
   "cell_type": "markdown",
   "metadata": {},
   "source": [
    "批标准化"
   ]
  },
  {
   "cell_type": "code",
   "execution_count": null,
   "metadata": {},
   "outputs": [],
   "source": [
    "# 直接将其放⼊构建神经⽹络的结构中即可\n",
    "tf.keras.layers.BatchNormalization(\n",
    " epsilon=0.001, center=True, scale=True,\n",
    " beta_initializer='zeros', gamma_initializer='ones',\n",
    ")"
   ]
  }
 ],
 "metadata": {
  "kernelspec": {
   "display_name": "tf-gpu",
   "language": "python",
   "name": "python3"
  },
  "language_info": {
   "codemirror_mode": {
    "name": "ipython",
    "version": 3
   },
   "file_extension": ".py",
   "mimetype": "text/x-python",
   "name": "python",
   "nbconvert_exporter": "python",
   "pygments_lexer": "ipython3",
   "version": "3.7.12"
  }
 },
 "nbformat": 4,
 "nbformat_minor": 2
}
