import pandas as pd  # 导入pandas库，通常用于数据处理
import numpy as np  # 导入numpy库，通常用于数值计算
import json  # 导入json库，用于处理JSON数据

data_read = open('subwaybeijing.json', 'r', encoding = 'utf-8')  # 打开名为'subwaybeijing.json'的文件，以只读模式，并指定编码为UTF-8
data = json.load(data_read)  # 读取JSON文件内容，并加载到变量data中

result = {'name': [],  # 创建一个字典，用于存储处理后的数据
          'line': [],
          'line_': [],
          'color': [],
          'longitude': [],
          'latitude': [],
          'poiid': [],
          'is_transfer_station': []}

# 遍历每一条地铁线路
for line in range(len(data['l'])):
    # 遍历线路中的每一个地铁站
    for point in range(len(data['l'][line]['st'])):
        result['name'].append(data['l'][line]['st'][point]['n'])  # 添加地铁站名称
        result['line'].append(data['l'][line]['kn']+data['l'][line]['la'])  # 添加地铁线路全名
        result['line_'].append(data['l'][line]['kn'])  # 添加地铁线路名
        result['color'].append(data['l'][line]['cl'])  # 添加线路颜色
        lon_lat = data['l'][line]['st'][point]['sl'].split(',')  # 将经纬度字符串分割成列表
        result['longitude'].append(lon_lat[0])  # 添加经度
        result['latitude'].append(lon_lat[1])  # 添加纬度
        result['poiid'].append(data['l'][line]['st'][point]['poiid'])  # 添加地铁站ID
        result['is_transfer_station'].append(data['l'][line]['st'][point]['t'])  # 添加是否为换乘站的信息

# 将处理后的数据转换为DataFrame，并保存到CSV文件中
pd.DataFrame(result).to_csv('subway.csv', encoding='utf-8', index=False)

# 打印地铁线路总数和地铁站总数
print(data['s'], '总共有{}条线路；总共有{}个地铁站！'.format(len(data['l']), len(set(result['poiid']))))

"""这里使用set的原因：
在Python中，`set`是一种无序且不包含重复元素的集合。当使用`set(result['poiid'])`时，它会从`result['poiid']`列表中去除所有重复的元素，只保留唯一的值。
在这段代码中，`result['poiid']`列表包含了所有地铁站的ID。由于在遍历所有线路和地铁站时，换乘站会在不同的线路中重复出现，因此`result['poiid']`列表中可能会包含重复的地铁站ID。
如果我们直接使用`len(result['poiid'])`来计算地铁站的总数，那么换乘站会被多次计数，导致总数不准确。
通过将`result['poiid']`列表转换成集合，我们可以确保每个地铁站ID只被计数一次，从而得到准确的地铁站总数。这是因为集合中的每个元素都是唯一的，重复的元素会被自动忽略。
"""
