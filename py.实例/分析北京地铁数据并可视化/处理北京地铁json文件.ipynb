{
 "cells": [
  {
   "cell_type": "code",
   "execution_count": 9,
   "id": "f35ad07b",
   "metadata": {},
   "outputs": [
    {
     "name": "stdout",
     "output_type": "stream",
     "text": [
      "北京市地铁 总共有25条线路；总共有386个地铁站！\n"
     ]
    },
    {
     "data": {
      "text/plain": [
       "\"这里使用set的原因：\\n在Python中，`set`是一种无序且不包含重复元素的集合。当使用`set(result['poiid'])`时，它会从`result['poiid']`列表中去除所有重复的元素，只保留唯一的值。\\n在这段代码中，`result['poiid']`列表包含了所有地铁站的ID。由于在遍历所有线路和地铁站时，换乘站会在不同的线路中重复出现，因此`result['poiid']`列表中可能会包含重复的地铁站ID。\\n如果我们直接使用`len(result['poiid'])`来计算地铁站的总数，那么换乘站会被多次计数，导致总数不准确。\\n通过将`result['poiid']`列表转换成集合，我们可以确保每个地铁站ID只被计数一次，从而得到准确的地铁站总数。这是因为集合中的每个元素都是唯一的，重复的元素会被自动忽略。\\n\""
      ]
     },
     "execution_count": 9,
     "metadata": {},
     "output_type": "execute_result"
    }
   ],
   "source": [
    "import pandas as pd  # 导入pandas库，通常用于数据处理\n",
    "import numpy as np  # 导入numpy库，通常用于数值计算\n",
    "import json  # 导入json库，用于处理JSON数据\n",
    "\n",
    "data_read = open('subwaybeijing.json', 'r', encoding = 'utf-8')  # 打开名为'subwaybeijing.json'的文件，以只读模式，并指定编码为UTF-8\n",
    "data = json.load(data_read)  # 读取JSON文件内容，并加载到变量data中\n",
    "\n",
    "result = {'name': [],  # 创建一个字典，用于存储处理后的数据\n",
    "          'line': [],\n",
    "          'line_': [],\n",
    "          'color': [],\n",
    "          'longitude': [],\n",
    "          'latitude': [],\n",
    "          'poiid': [],\n",
    "          'is_transfer_station': []}\n",
    "\n",
    "# 遍历每一条地铁线路\n",
    "for line in range(len(data['l'])):\n",
    "    # 遍历线路中的每一个地铁站\n",
    "    for point in range(len(data['l'][line]['st'])):\n",
    "        result['name'].append(data['l'][line]['st'][point]['n'])  # 添加地铁站名称\n",
    "        result['line'].append(data['l'][line]['kn']+data['l'][line]['la'])  # 添加地铁线路全名\n",
    "        result['line_'].append(data['l'][line]['kn'])  # 添加地铁线路名\n",
    "        result['color'].append(data['l'][line]['cl'])  # 添加线路颜色\n",
    "        lon_lat = data['l'][line]['st'][point]['sl'].split(',')  # 将经纬度字符串分割成列表\n",
    "        result['longitude'].append(lon_lat[0])  # 添加经度\n",
    "        result['latitude'].append(lon_lat[1])  # 添加纬度\n",
    "        result['poiid'].append(data['l'][line]['st'][point]['poiid'])  # 添加地铁站ID\n",
    "        result['is_transfer_station'].append(data['l'][line]['st'][point]['t'])  # 添加是否为换乘站的信息\n",
    "\n",
    "# 将处理后的数据转换为DataFrame，并保存到CSV文件中\n",
    "pd.DataFrame(result).to_csv('subway2.csv', encoding='utf-8', index=False)\n",
    "\n",
    "# 打印地铁线路总数和地铁站总数\n",
    "print(data['s'], '总共有{}条线路；总共有{}个地铁站！'.format(len(data['l']), len(set(result['poiid']))))\n",
    "\n",
    "\"\"\"这里使用set的原因：\n",
    "在Python中，`set`是一种无序且不包含重复元素的集合。当使用`set(result['poiid'])`时，它会从`result['poiid']`列表中去除所有重复的元素，只保留唯一的值。\n",
    "在这段代码中，`result['poiid']`列表包含了所有地铁站的ID。由于在遍历所有线路和地铁站时，换乘站会在不同的线路中重复出现，因此`result['poiid']`列表中可能会包含重复的地铁站ID。\n",
    "如果我们直接使用`len(result['poiid'])`来计算地铁站的总数，那么换乘站会被多次计数，导致总数不准确。\n",
    "通过将`result['poiid']`列表转换成集合，我们可以确保每个地铁站ID只被计数一次，从而得到准确的地铁站总数。这是因为集合中的每个元素都是唯一的，重复的元素会被自动忽略。\n",
    "\"\"\"\n"
   ]
  },
  {
   "cell_type": "code",
   "execution_count": null,
   "id": "2da7a5b4",
   "metadata": {},
   "outputs": [],
   "source": []
  },
  {
   "cell_type": "code",
   "execution_count": null,
   "id": "9b295b74",
   "metadata": {},
   "outputs": [],
   "source": []
  },
  {
   "cell_type": "code",
   "execution_count": null,
   "id": "cf96b2e4",
   "metadata": {},
   "outputs": [],
   "source": []
  },
  {
   "cell_type": "code",
   "execution_count": null,
   "id": "f0952e52",
   "metadata": {},
   "outputs": [],
   "source": []
  }
 ],
 "metadata": {
  "kernelspec": {
   "display_name": "Python 3 (ipykernel)",
   "language": "python",
   "name": "python3"
  },
  "language_info": {
   "codemirror_mode": {
    "name": "ipython",
    "version": 3
   },
   "file_extension": ".py",
   "mimetype": "text/x-python",
   "name": "python",
   "nbconvert_exporter": "python",
   "pygments_lexer": "ipython3",
   "version": "3.10.9"
  }
 },
 "nbformat": 4,
 "nbformat_minor": 5
}
