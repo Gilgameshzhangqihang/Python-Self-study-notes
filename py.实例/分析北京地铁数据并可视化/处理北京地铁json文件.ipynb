{
 "cells": [
  {
   "cell_type": "code",
   "execution_count": 2,
   "id": "0a1ee413",
   "metadata": {},
   "outputs": [
    {
     "name": "stdout",
     "output_type": "stream",
     "text": [
      "北京市地铁 总共有25条线路；总共有386个地铁站！\n"
     ]
    }
   ],
   "source": [
    "import pandas as pd\n",
    "import numpy as np\n",
    "import json\n",
    "data_read = open('subwaybeijing.json', 'r', encoding = 'utf-8')\n",
    "data = json.load(data_read)\n",
    "\n",
    "result ={'name': [],\n",
    "         'line': [],\n",
    "         'line_': [],\n",
    "         'color': [],\n",
    "         'longitude': [],\n",
    "         'latitude': [],\n",
    "         'poiid': [],\n",
    "         'is_transfer_station': []}\n",
    "for line in range(len(data['l'])):\n",
    "    for point in range(len(data['l'][line]['st'])):\n",
    "        result['name'].append(data['l'][line]['st'][point]['n'])\n",
    "        result['line'].append(data['l'][line]['kn']+data['l'][line]['la'])\n",
    "        result['line_'].append(data['l'][line]['kn'])\n",
    "        result['color'].append(data['l'][line]['cl'])\n",
    "        lon_lat = data['l'][line]['st'][point]['sl'].split(',')\n",
    "        result['longitude'].append(lon_lat[0])\n",
    "        result['latitude'].append(lon_lat[1])\n",
    "        result['poiid'].append(data['l'][line]['st'][point]['poiid'])\n",
    "        result['is_transfer_station'].append(data['l'][line]['st'][point]['t'])\n",
    "pd.DataFrame(result).to_csv('subway.csv',encoding='utf-8',index=False)\n",
    "\n",
    "print(data['s'],'总共有{}条线路；总共有{}个地铁站！'.format(len(data['l']), len(set(result['poiid']))))"
   ]
  },
  {
   "cell_type": "code",
   "execution_count": null,
   "id": "2ac01b8e",
   "metadata": {},
   "outputs": [],
   "source": []
  },
  {
   "cell_type": "code",
   "execution_count": null,
   "id": "7d82e4e1",
   "metadata": {},
   "outputs": [],
   "source": []
  },
  {
   "cell_type": "code",
   "execution_count": null,
   "id": "8cd23e27",
   "metadata": {},
   "outputs": [],
   "source": []
  },
  {
   "cell_type": "code",
   "execution_count": null,
   "id": "b481a18e",
   "metadata": {},
   "outputs": [],
   "source": []
  }
 ],
 "metadata": {
  "kernelspec": {
   "display_name": "Python 3 (ipykernel)",
   "language": "python",
   "name": "python3"
  },
  "language_info": {
   "codemirror_mode": {
    "name": "ipython",
    "version": 3
   },
   "file_extension": ".py",
   "mimetype": "text/x-python",
   "name": "python",
   "nbconvert_exporter": "python",
   "pygments_lexer": "ipython3",
   "version": "3.10.9"
  }
 },
 "nbformat": 4,
 "nbformat_minor": 5
}
