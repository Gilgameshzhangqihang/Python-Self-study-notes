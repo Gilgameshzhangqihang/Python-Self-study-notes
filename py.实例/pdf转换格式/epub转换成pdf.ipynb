{
 "cells": [
  {
   "cell_type": "code",
   "execution_count": 9,
   "id": "7f6dcc2e",
   "metadata": {},
   "outputs": [
    {
     "ename": "NameError",
     "evalue": "name 'EpubLoadOptions' is not defined",
     "output_type": "error",
     "traceback": [
      "\u001b[1;31m---------------------------------------------------------------------------\u001b[0m",
      "\u001b[1;31mNameError\u001b[0m                                 Traceback (most recent call last)",
      "Cell \u001b[1;32mIn[9], line 21\u001b[0m\n\u001b[0;32m     18\u001b[0m data_Dir\u001b[38;5;241m=\u001b[39m\u001b[38;5;124m\"\u001b[39m\u001b[38;5;124mC:/Users/Dell/Desktop/python practice/python练习\u001b[39m\u001b[38;5;124m\"\u001b[39m\n\u001b[0;32m     19\u001b[0m converter\u001b[38;5;241m=\u001b[39mEbookConverter(data_Dir)\n\u001b[1;32m---> 21\u001b[0m \u001b[43mconverter\u001b[49m\u001b[38;5;241;43m.\u001b[39;49m\u001b[43mconvert_EPUB_to_PDF\u001b[49m\u001b[43m(\u001b[49m\u001b[38;5;124;43m\"\u001b[39;49m\u001b[38;5;124;43mpython1.epub\u001b[39;49m\u001b[38;5;124;43m\"\u001b[39;49m\u001b[43m,\u001b[49m\u001b[38;5;124;43m\"\u001b[39;49m\u001b[38;5;124;43moutput.pdf\u001b[39;49m\u001b[38;5;124;43m\"\u001b[39;49m\u001b[43m)\u001b[49m\n",
      "Cell \u001b[1;32mIn[9], line 13\u001b[0m, in \u001b[0;36mEbookConverter.convert_EPUB_to_PDF\u001b[1;34m(self, infile, outfile)\u001b[0m\n\u001b[0;32m     11\u001b[0m     \u001b[38;5;28mprint\u001b[39m(\u001b[38;5;124m\"\u001b[39m\u001b[38;5;124mError: The input file does not exist.\u001b[39m\u001b[38;5;124m\"\u001b[39m)\n\u001b[0;32m     12\u001b[0m     \u001b[38;5;28;01mreturn\u001b[39;00m\n\u001b[1;32m---> 13\u001b[0m option \u001b[38;5;241m=\u001b[39m \u001b[43mEpubLoadOptions\u001b[49m()\n\u001b[0;32m     14\u001b[0m document \u001b[38;5;241m=\u001b[39m Document(path_infile, option)\n\u001b[0;32m     15\u001b[0m document\u001b[38;5;241m.\u001b[39mSave(path_outfile)\n",
      "\u001b[1;31mNameError\u001b[0m: name 'EpubLoadOptions' is not defined"
     ]
    }
   ],
   "source": [
    "import os\n",
    "\n",
    "class EbookConverter:\n",
    "    def __init__(self, data_dir):\n",
    "        self.dataDir = data_dir\n",
    "    def convert_EPUB_to_PDF(self, infile, outfile):\n",
    "        path_infile = self.dataDir + infile\n",
    "        path_outfile = self.dataDir + outfile \n",
    "            # 检查输入文件是否存在\n",
    "        if not os.path.exists(infile):\n",
    "            print(\"Error: The input file does not exist.\")\n",
    "            return\n",
    "        option = EpubLoadOptions()\n",
    "        document = Document(path_infile, option)\n",
    "        document.Save(path_outfile)\n",
    "        print(infile + \" converted into \" + outfile)\n",
    "      \n",
    "data_Dir=\"C:/Users/Dell/Desktop/python practice/python练习\"\n",
    "converter=EbookConverter(data_Dir)\n",
    "\n",
    "converter.convert_EPUB_to_PDF(\"python1.epub\",\"output.pdf\")\n"
   ]
  },
  {
   "cell_type": "code",
   "execution_count": 12,
   "id": "34e4b3cd",
   "metadata": {},
   "outputs": [
    {
     "name": "stdout",
     "output_type": "stream",
     "text": [
      "EPUB file 'C:/Users/Dell/Desktop/python practice/python练习/python1.epub' converted to PDF and saved as 'C:/Users/Dell/Desktop/python practice/python练习/file.pdf'\n"
     ]
    }
   ],
   "source": [
    "import aspose.pdf as apdf\n",
    "\n",
    "def convert_epub_to_pdf(epub_file, pdf_file):\n",
    "    # 创建 EpubLoadOptions 类的对象\n",
    "    load_options = apdf.EpubLoadOptions()\n",
    "\n",
    "\n",
    "    # 在 Document 类对象中加载 EPUB 文件\n",
    "    doc = apdf.Document(epub_file, load_options)\n",
    "\n",
    "    # 在磁盘上将 EPUB 文件另存为 PDF\n",
    "    doc.save(pdf_file)\n",
    "\n",
    "    print(f\"EPUB file '{epub_file}' converted to PDF and saved as '{pdf_file}'\")\n",
    "\n",
    "# EPUB文件路径\n",
    "epub_file_path = \"C:/Users/Dell/Desktop/python practice/python练习/python1.epub\"\n",
    "\n",
    "# 输出PDF文件的路径\n",
    "pdf_file_path = \"C:/Users/Dell/Desktop/python practice/python练习/file.pdf\"\n",
    "# 调用函数转换EPUB为PDF\n",
    "convert_epub_to_pdf(epub_file_path, pdf_file_path)\n"
   ]
  },
  {
   "cell_type": "code",
   "execution_count": null,
   "id": "c633ccf2",
   "metadata": {},
   "outputs": [],
   "source": []
  },
  {
   "cell_type": "code",
   "execution_count": null,
   "id": "d3ef49ec",
   "metadata": {},
   "outputs": [],
   "source": []
  },
  {
   "cell_type": "code",
   "execution_count": null,
   "id": "42907487",
   "metadata": {},
   "outputs": [],
   "source": []
  }
 ],
 "metadata": {
  "kernelspec": {
   "display_name": "Python 3 (ipykernel)",
   "language": "python",
   "name": "python3"
  },
  "language_info": {
   "codemirror_mode": {
    "name": "ipython",
    "version": 3
   },
   "file_extension": ".py",
   "mimetype": "text/x-python",
   "name": "python",
   "nbconvert_exporter": "python",
   "pygments_lexer": "ipython3",
   "version": "3.10.9"
  }
 },
 "nbformat": 4,
 "nbformat_minor": 5
}
