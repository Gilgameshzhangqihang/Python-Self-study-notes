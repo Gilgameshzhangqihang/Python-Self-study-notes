{
 "cells": [
  {
   "cell_type": "markdown",
   "id": "a5c922ce",
   "metadata": {},
   "source": [
    "# numpy的优势\n"
   ]
  },
  {
   "cell_type": "markdown",
   "id": "b6cbdae4",
   "metadata": {},
   "source": [
    "# 用于快速处理任意维度的数组\n",
    "##ndarray\n",
    "##n-任意个\n",
    "##d-维度\n",
    "##array-数组\n"
   ]
  },
  {
   "cell_type": "code",
   "execution_count": 2,
   "id": "3f51c4e5",
   "metadata": {},
   "outputs": [
    {
     "data": {
      "text/plain": [
       "array([[80, 89, 86, 67, 79],\n",
       "       [78, 97, 89, 67, 81],\n",
       "       [90, 94, 78, 67, 74],\n",
       "       [91, 91, 90, 67, 69],\n",
       "       [76, 87, 75, 67, 86],\n",
       "       [70, 79, 84, 67, 84],\n",
       "       [94, 92, 93, 67, 64],\n",
       "       [86, 85, 83, 67, 80]])"
      ]
     },
     "execution_count": 2,
     "metadata": {},
     "output_type": "execute_result"
    }
   ],
   "source": [
    "import numpy as np\n",
    "\n",
    "score=np.array([[80,89,86,67,79],\n",
    "              [78,97,89,67,81],\n",
    "              [90,94,78,67,74],\n",
    "              [91,91,90,67,69],\n",
    "              [76,87,75,67,86],\n",
    "              [70,79,84,67,84],\n",
    "              [94,92,93,67,64],\n",
    "              [86,85,83,67,80]])\n",
    "score"
   ]
  },
  {
   "cell_type": "code",
   "execution_count": 6,
   "id": "02a1cb5a",
   "metadata": {},
   "outputs": [
    {
     "data": {
      "text/plain": [
       "numpy.ndarray"
      ]
     },
     "execution_count": 6,
     "metadata": {},
     "output_type": "execute_result"
    }
   ],
   "source": [
    "type(score)"
   ]
  },
  {
   "cell_type": "markdown",
   "id": "3308ad56",
   "metadata": {},
   "source": [
    "# ndarray与python原生list的对比"
   ]
  },
  {
   "cell_type": "code",
   "execution_count": 8,
   "id": "092787a0",
   "metadata": {},
   "outputs": [
    {
     "name": "stdout",
     "output_type": "stream",
     "text": [
      "0.04009127616882324 0.008516550064086914\n"
     ]
    }
   ],
   "source": [
    "import random \n",
    "import time \n",
    "import numpy as np\n",
    "a=[]\n",
    "for i in range(10000000):\n",
    "    a.append(random.random())\n",
    "t1=time.time()\n",
    "sum1=sum(a)\n",
    "t2=time.time()\n",
    "\n",
    "\n",
    "b=np.array(a)\n",
    "t4=time.time()\n",
    "sum3=np.sum(b)\n",
    "t5=time.time()\n",
    "print(t2-t1,t5-t4)\n",
    "##导入所需的模块：random、time和numpy。创建一个空列表a，用于存储随机生成的数字。通过循环生成10000000个随机数，并将它们添加到列表a中。记录开始时间t1。\n",
    "##使用内置的sum()函数计算列表a的总和，并记录结束时间t2。将列表a转换为NumPy数组b，并记录开始时间t4。\n",
    "##使用np.sum()函数计算数组b的总和，并记录结束时间t5。\n",
    "##计算并打印出两个总和操作所用的时间（t2-t1和t5-t4）。\n",
    "##通过这段代码，我们可以比较使用内置的sum()函数和使用NumPy的np.sum()函数两种方式计算列表或数组总和的效率。"
   ]
  },
  {
   "cell_type": "markdown",
   "id": "13b1cebb",
   "metadata": {},
   "source": [
    "# 优势：1、存储风格2、并行化运算3、底层语言"
   ]
  },
  {
   "cell_type": "markdown",
   "id": "e89f6c88",
   "metadata": {},
   "source": [
    "# ndarray的属性\n"
   ]
  },
  {
   "cell_type": "code",
   "execution_count": 10,
   "id": "1adb37e8",
   "metadata": {},
   "outputs": [
    {
     "data": {
      "text/plain": [
       "array([[80, 89, 86, 67, 79],\n",
       "       [78, 97, 89, 67, 81],\n",
       "       [90, 94, 78, 67, 74],\n",
       "       [91, 91, 90, 67, 69],\n",
       "       [76, 87, 75, 67, 86],\n",
       "       [70, 79, 84, 67, 84],\n",
       "       [94, 92, 93, 67, 64],\n",
       "       [86, 85, 83, 67, 80]])"
      ]
     },
     "execution_count": 10,
     "metadata": {},
     "output_type": "execute_result"
    }
   ],
   "source": [
    "score\n"
   ]
  },
  {
   "cell_type": "code",
   "execution_count": 12,
   "id": "cd6a1f3a",
   "metadata": {},
   "outputs": [
    {
     "data": {
      "text/plain": [
       "(8, 5)"
      ]
     },
     "execution_count": 12,
     "metadata": {},
     "output_type": "execute_result"
    }
   ],
   "source": [
    "score.shape"
   ]
  },
  {
   "cell_type": "code",
   "execution_count": 13,
   "id": "9955d1fa",
   "metadata": {},
   "outputs": [
    {
     "data": {
      "text/plain": [
       "dtype('int32')"
      ]
     },
     "execution_count": 13,
     "metadata": {},
     "output_type": "execute_result"
    }
   ],
   "source": [
    "score.dtype"
   ]
  },
  {
   "cell_type": "code",
   "execution_count": 15,
   "id": "1db2efda",
   "metadata": {},
   "outputs": [
    {
     "data": {
      "text/plain": [
       "2"
      ]
     },
     "execution_count": 15,
     "metadata": {},
     "output_type": "execute_result"
    }
   ],
   "source": [
    "score.ndim"
   ]
  },
  {
   "cell_type": "code",
   "execution_count": 16,
   "id": "acca58ab",
   "metadata": {},
   "outputs": [
    {
     "data": {
      "text/plain": [
       "40"
      ]
     },
     "execution_count": 16,
     "metadata": {},
     "output_type": "execute_result"
    }
   ],
   "source": [
    "score.size"
   ]
  },
  {
   "cell_type": "code",
   "execution_count": 17,
   "id": "d3e64be9",
   "metadata": {},
   "outputs": [
    {
     "data": {
      "text/plain": [
       "4"
      ]
     },
     "execution_count": 17,
     "metadata": {},
     "output_type": "execute_result"
    }
   ],
   "source": [
    "score.itemsize"
   ]
  },
  {
   "cell_type": "markdown",
   "id": "593ae3aa",
   "metadata": {},
   "source": [
    "# int32 表示32位整数 相当于int 占四个字节\\int16 表示16位整数 相当于short占两个字节\\int64 表示64位整数 相当于long 占八个字节"
   ]
  },
  {
   "cell_type": "markdown",
   "id": "9b2eb7a1",
   "metadata": {},
   "source": [
    "# ndarray的形状"
   ]
  },
  {
   "cell_type": "code",
   "execution_count": 2,
   "id": "451b9305",
   "metadata": {},
   "outputs": [],
   "source": [
    "import numpy as np\n",
    "a=np.array([[1,2,3],[4,5,6]])\n",
    "b=np.array([1,2,3,4])\n",
    "c=np.array([[[1,2,3],[4,5,6]],[[1,2,3],[4,5,6]]])"
   ]
  },
  {
   "cell_type": "code",
   "execution_count": 4,
   "id": "03cd4009",
   "metadata": {},
   "outputs": [
    {
     "data": {
      "text/plain": [
       "array([[1, 2, 3],\n",
       "       [4, 5, 6]])"
      ]
     },
     "execution_count": 4,
     "metadata": {},
     "output_type": "execute_result"
    }
   ],
   "source": [
    "a #（2，3）"
   ]
  },
  {
   "cell_type": "code",
   "execution_count": 5,
   "id": "4926306b",
   "metadata": {},
   "outputs": [
    {
     "data": {
      "text/plain": [
       "array([1, 2, 3, 4])"
      ]
     },
     "execution_count": 5,
     "metadata": {},
     "output_type": "execute_result"
    }
   ],
   "source": [
    "b #（4，）"
   ]
  },
  {
   "cell_type": "code",
   "execution_count": 6,
   "id": "45e66b39",
   "metadata": {},
   "outputs": [
    {
     "data": {
      "text/plain": [
       "array([[[1, 2, 3],\n",
       "        [4, 5, 6]],\n",
       "\n",
       "       [[1, 2, 3],\n",
       "        [4, 5, 6]]])"
      ]
     },
     "execution_count": 6,
     "metadata": {},
     "output_type": "execute_result"
    }
   ],
   "source": [
    "c #（2，2，3）三维"
   ]
  },
  {
   "cell_type": "markdown",
   "id": "7aeb67f3",
   "metadata": {},
   "source": [
    "# ndarray的类型"
   ]
  },
  {
   "cell_type": "code",
   "execution_count": 8,
   "id": "21720c92",
   "metadata": {},
   "outputs": [
    {
     "data": {
      "text/plain": [
       "dtype('float64')"
      ]
     },
     "execution_count": 8,
     "metadata": {},
     "output_type": "execute_result"
    }
   ],
   "source": [
    "data=np.array([1.1,2.2,3.3])\n",
    "data.dtype"
   ]
  },
  {
   "cell_type": "code",
   "execution_count": 10,
   "id": "1a708bdf",
   "metadata": {},
   "outputs": [
    {
     "data": {
      "text/plain": [
       "array([1.1, 2.2, 3.3], dtype=float32)"
      ]
     },
     "execution_count": 10,
     "metadata": {},
     "output_type": "execute_result"
    }
   ],
   "source": [
    "np.array([1.1,2.2,3.3],dtype=\"float32\")"
   ]
  },
  {
   "cell_type": "markdown",
   "id": "d26910ec",
   "metadata": {},
   "source": [
    "# 基本操作"
   ]
  },
  {
   "cell_type": "code",
   "execution_count": 16,
   "id": "ff670894",
   "metadata": {},
   "outputs": [
    {
     "data": {
      "text/plain": [
       "array([[0., 0., 0., 0.],\n",
       "       [0., 0., 0., 0.],\n",
       "       [0., 0., 0., 0.]])"
      ]
     },
     "execution_count": 16,
     "metadata": {},
     "output_type": "execute_result"
    }
   ],
   "source": [
    "zero=np.zeros(shape=(3,4))\n",
    "zero"
   ]
  },
  {
   "cell_type": "code",
   "execution_count": 19,
   "id": "5ac082f8",
   "metadata": {},
   "outputs": [
    {
     "data": {
      "text/plain": [
       "array([[1., 1., 1.],\n",
       "       [1., 1., 1.]], dtype=float32)"
      ]
     },
     "execution_count": 19,
     "metadata": {},
     "output_type": "execute_result"
    }
   ],
   "source": [
    "np.ones((2,3),dtype=\"float32\")"
   ]
  },
  {
   "cell_type": "code",
   "execution_count": 24,
   "id": "a18ab6ff",
   "metadata": {},
   "outputs": [
    {
     "data": {
      "text/plain": [
       "array([[80, 89, 86, 67, 79],\n",
       "       [78, 97, 89, 67, 81],\n",
       "       [90, 94, 78, 67, 74],\n",
       "       [91, 91, 90, 67, 69],\n",
       "       [76, 87, 75, 67, 86],\n",
       "       [70, 79, 84, 67, 84],\n",
       "       [94, 92, 93, 67, 64],\n",
       "       [86, 85, 83, 67, 80]])"
      ]
     },
     "execution_count": 24,
     "metadata": {},
     "output_type": "execute_result"
    }
   ],
   "source": [
    "import numpy as np\n",
    "\n",
    "score=np.array([[80,89,86,67,79],\n",
    "              [78,97,89,67,81],\n",
    "              [90,94,78,67,74],\n",
    "              [91,91,90,67,69],\n",
    "              [76,87,75,67,86],\n",
    "              [70,79,84,67,84],\n",
    "              [94,92,93,67,64],\n",
    "              [86,85,83,67,80]])\n",
    "score"
   ]
  },
  {
   "cell_type": "code",
   "execution_count": 26,
   "id": "97b9b753",
   "metadata": {},
   "outputs": [
    {
     "data": {
      "text/plain": [
       "array([[   80,    89,    86,    67,    79],\n",
       "       [   78,    97,    89,    67,    81],\n",
       "       [   90,    94,    78,    67,    74],\n",
       "       [   91, 10000,    90,    67,    69],\n",
       "       [   76,    87,    75,    67,    86],\n",
       "       [   70,    79,    84,    67,    84],\n",
       "       [   94,    92,    93,    67,    64],\n",
       "       [   86,    85,    83,    67,    80]])"
      ]
     },
     "execution_count": 26,
     "metadata": {},
     "output_type": "execute_result"
    }
   ],
   "source": [
    "score[3,1]=10000\n",
    "score"
   ]
  },
  {
   "cell_type": "markdown",
   "id": "505a3e95",
   "metadata": {},
   "source": [
    "##np.array()和np.copy()深拷贝，np.asarray()浅拷贝"
   ]
  },
  {
   "cell_type": "code",
   "execution_count": 28,
   "id": "845988ca",
   "metadata": {},
   "outputs": [
    {
     "data": {
      "text/plain": [
       "array([ 0.        ,  0.1010101 ,  0.2020202 ,  0.3030303 ,  0.4040404 ,\n",
       "        0.50505051,  0.60606061,  0.70707071,  0.80808081,  0.90909091,\n",
       "        1.01010101,  1.11111111,  1.21212121,  1.31313131,  1.41414141,\n",
       "        1.51515152,  1.61616162,  1.71717172,  1.81818182,  1.91919192,\n",
       "        2.02020202,  2.12121212,  2.22222222,  2.32323232,  2.42424242,\n",
       "        2.52525253,  2.62626263,  2.72727273,  2.82828283,  2.92929293,\n",
       "        3.03030303,  3.13131313,  3.23232323,  3.33333333,  3.43434343,\n",
       "        3.53535354,  3.63636364,  3.73737374,  3.83838384,  3.93939394,\n",
       "        4.04040404,  4.14141414,  4.24242424,  4.34343434,  4.44444444,\n",
       "        4.54545455,  4.64646465,  4.74747475,  4.84848485,  4.94949495,\n",
       "        5.05050505,  5.15151515,  5.25252525,  5.35353535,  5.45454545,\n",
       "        5.55555556,  5.65656566,  5.75757576,  5.85858586,  5.95959596,\n",
       "        6.06060606,  6.16161616,  6.26262626,  6.36363636,  6.46464646,\n",
       "        6.56565657,  6.66666667,  6.76767677,  6.86868687,  6.96969697,\n",
       "        7.07070707,  7.17171717,  7.27272727,  7.37373737,  7.47474747,\n",
       "        7.57575758,  7.67676768,  7.77777778,  7.87878788,  7.97979798,\n",
       "        8.08080808,  8.18181818,  8.28282828,  8.38383838,  8.48484848,\n",
       "        8.58585859,  8.68686869,  8.78787879,  8.88888889,  8.98989899,\n",
       "        9.09090909,  9.19191919,  9.29292929,  9.39393939,  9.49494949,\n",
       "        9.5959596 ,  9.6969697 ,  9.7979798 ,  9.8989899 , 10.        ])"
      ]
     },
     "execution_count": 28,
     "metadata": {},
     "output_type": "execute_result"
    }
   ],
   "source": [
    "np.linspace(0,10,100)"
   ]
  },
  {
   "cell_type": "code",
   "execution_count": 30,
   "id": "531ed2ac",
   "metadata": {},
   "outputs": [
    {
     "data": {
      "text/plain": [
       "array([ 0,  5, 10])"
      ]
     },
     "execution_count": 30,
     "metadata": {},
     "output_type": "execute_result"
    }
   ],
   "source": [
    "np.arange(0,11,5)"
   ]
  },
  {
   "cell_type": "markdown",
   "id": "3001c98a",
   "metadata": {},
   "source": [
    "# 生成随机数"
   ]
  },
  {
   "cell_type": "code",
   "execution_count": 33,
   "id": "cd0a4c5f",
   "metadata": {},
   "outputs": [
    {
     "data": {
      "text/plain": [
       "array([-0.58018853, -0.32080667, -0.46089625, ...,  0.25973612,\n",
       "       -0.14732566, -0.55293547])"
      ]
     },
     "execution_count": 33,
     "metadata": {},
     "output_type": "execute_result"
    }
   ],
   "source": [
    "x1=np.random.uniform(-1,1,1000000)\n",
    "x1"
   ]
  },
  {
   "cell_type": "code",
   "execution_count": 36,
   "id": "7cdc0626",
   "metadata": {},
   "outputs": [
    {
     "data": {
      "image/png": "[encoded data removed]",
      "text/plain": [
       "<Figure size 1600x640 with 1 Axes>"
      ]
     },
     "metadata": {},
     "output_type": "display_data"
    }
   ],
   "source": [
    "import matplotlib.pyplot as plt\n",
    "%matplotlib inline\n",
    "plt.figure(figsize=(20,8),dpi=80)\n",
    "plt.hist(x1,1000)\n",
    "plt.show()\n"
   ]
  },
  {
   "cell_type": "code",
   "execution_count": 44,
   "id": "3b1b682f",
   "metadata": {},
   "outputs": [],
   "source": [
    "data2=np.random.normal(loc=1.75,scale=0.1,size=100000000)#一亿个数据"
   ]
  },
  {
   "cell_type": "code",
   "execution_count": 45,
   "id": "8a471863",
   "metadata": {},
   "outputs": [
    {
     "data": {
      "text/plain": [
       "array([1.74586257, 1.7050432 , 1.71533082, ..., 1.83664631, 1.76973583,\n",
       "       1.67361884])"
      ]
     },
     "execution_count": 45,
     "metadata": {},
     "output_type": "execute_result"
    }
   ],
   "source": [
    "data2"
   ]
  },
  {
   "cell_type": "code",
   "execution_count": 46,
   "id": "8c481b6a",
   "metadata": {},
   "outputs": [
    {
     "data": {
      "image/png": "[encoded data removed]",
      "text/plain": [
       "<Figure size 1600x640 with 1 Axes>"
      ]
     },
     "metadata": {},
     "output_type": "display_data"
    }
   ],
   "source": [
    "plt.figure(figsize=(20,8),dpi=80)\n",
    "plt.hist(data2,1000)\n",
    "plt.show()\n"
   ]
  },
  {
   "cell_type": "markdown",
   "id": "d20ecce7",
   "metadata": {},
   "source": [
    "# 案例：随机生成8只股票2周的交易日涨幅数据"
   ]
  },
  {
   "cell_type": "code",
   "execution_count": 9,
   "id": "7f366dfd",
   "metadata": {},
   "outputs": [
    {
     "data": {
      "text/plain": [
       "array([[ 0.82716238, -0.76833807, -1.15567935,  0.3695518 , -0.61584565,\n",
       "         1.36072733,  1.31172478,  0.11125941, -0.83197207,  0.92138167],\n",
       "       [-0.44504957, -2.26739089, -0.30503325,  0.3842482 , -0.82475165,\n",
       "         0.89206984,  1.57404291, -0.89053898,  1.35420451,  2.0640473 ],\n",
       "       [-1.61347795,  1.22043649, -0.12540567,  0.95497449,  0.36473136,\n",
       "        -0.35920108,  0.53337271, -0.61648302,  1.49509238, -0.29553616],\n",
       "       [-0.1818543 ,  0.14769803,  0.87197113, -1.73676823, -0.52149698,\n",
       "        -0.71766661, -0.23871577,  0.03961985,  0.56294667,  0.13448239],\n",
       "       [-0.45286828,  0.47569096,  1.01739356, -0.35630093, -0.25939378,\n",
       "         0.23863044, -0.90545052, -0.4003178 ,  0.01297224,  0.71825994],\n",
       "       [ 0.41718422,  0.77251992,  0.60821091,  0.73866967,  2.15775236,\n",
       "        -1.1480051 , -1.15206581, -1.53818298, -1.28496923,  0.04934903],\n",
       "       [ 1.01910768, -2.40375586,  0.1358033 ,  0.48548419, -0.4737201 ,\n",
       "        -0.0007625 , -0.28093578, -1.43268528,  0.13049519,  0.50065866],\n",
       "       [-2.11572125, -1.23967043,  1.02075362, -1.25210201, -0.49363172,\n",
       "        -0.3233035 , -0.75422993, -1.27968713, -0.71817743,  0.13906543]])"
      ]
     },
     "execution_count": 9,
     "metadata": {},
     "output_type": "execute_result"
    }
   ],
   "source": [
    "import numpy as np\n",
    "np.set_printoptions(suppress=True)\n",
    "stock_change=np.random.normal(loc=0,scale=1,size=(8,10))\n",
    "stock_change"
   ]
  },
  {
   "cell_type": "code",
   "execution_count": 3,
   "id": "ea71665a",
   "metadata": {},
   "outputs": [
    {
     "data": {
      "text/plain": [
       "array([-0.34661758,  2.1516504 ,  1.34391503])"
      ]
     },
     "execution_count": 3,
     "metadata": {},
     "output_type": "execute_result"
    }
   ],
   "source": [
    "stock_change[0,0:3]"
   ]
  },
  {
   "cell_type": "code",
   "execution_count": 4,
   "id": "f2b65cd6",
   "metadata": {},
   "outputs": [
    {
     "data": {
      "text/plain": [
       "array([[[ 1,  2,  3],\n",
       "        [ 4,  5,  6]],\n",
       "\n",
       "       [[12, 13, 14],\n",
       "        [15, 16, 17]]])"
      ]
     },
     "execution_count": 4,
     "metadata": {},
     "output_type": "execute_result"
    }
   ],
   "source": [
    "a1=np.array([[[1,2,3],[4,5,6]],[[12,13,14],[15,16,17]]])\n",
    "a1"
   ]
  },
  {
   "cell_type": "code",
   "execution_count": 6,
   "id": "f6ef57ae",
   "metadata": {},
   "outputs": [
    {
     "data": {
      "text/plain": [
       "(2, 2, 3)"
      ]
     },
     "execution_count": 6,
     "metadata": {},
     "output_type": "execute_result"
    }
   ],
   "source": [
    "a1.shape"
   ]
  },
  {
   "cell_type": "code",
   "execution_count": 7,
   "id": "51c27c46",
   "metadata": {},
   "outputs": [
    {
     "data": {
      "text/plain": [
       "14"
      ]
     },
     "execution_count": 7,
     "metadata": {},
     "output_type": "execute_result"
    }
   ],
   "source": [
    "a1[1,0,2]"
   ]
  },
  {
   "cell_type": "code",
   "execution_count": 11,
   "id": "f50feca0",
   "metadata": {},
   "outputs": [
    {
     "data": {
      "text/plain": [
       "array([[ 0.82716238, -0.76833807, -1.15567935,  0.3695518 , -0.61584565,\n",
       "         1.36072733,  1.31172478,  0.11125941],\n",
       "       [-0.83197207,  0.92138167, -0.44504957, -2.26739089, -0.30503325,\n",
       "         0.3842482 , -0.82475165,  0.89206984],\n",
       "       [ 1.57404291, -0.89053898,  1.35420451,  2.0640473 , -1.61347795,\n",
       "         1.22043649, -0.12540567,  0.95497449],\n",
       "       [ 0.36473136, -0.35920108,  0.53337271, -0.61648302,  1.49509238,\n",
       "        -0.29553616, -0.1818543 ,  0.14769803],\n",
       "       [ 0.87197113, -1.73676823, -0.52149698, -0.71766661, -0.23871577,\n",
       "         0.03961985,  0.56294667,  0.13448239],\n",
       "       [-0.45286828,  0.47569096,  1.01739356, -0.35630093, -0.25939378,\n",
       "         0.23863044, -0.90545052, -0.4003178 ],\n",
       "       [ 0.01297224,  0.71825994,  0.41718422,  0.77251992,  0.60821091,\n",
       "         0.73866967,  2.15775236, -1.1480051 ],\n",
       "       [-1.15206581, -1.53818298, -1.28496923,  0.04934903,  1.01910768,\n",
       "        -2.40375586,  0.1358033 ,  0.48548419],\n",
       "       [-0.4737201 , -0.0007625 , -0.28093578, -1.43268528,  0.13049519,\n",
       "         0.50065866, -2.11572125, -1.23967043],\n",
       "       [ 1.02075362, -1.25210201, -0.49363172, -0.3233035 , -0.75422993,\n",
       "        -1.27968713, -0.71817743,  0.13906543]])"
      ]
     },
     "execution_count": 11,
     "metadata": {},
     "output_type": "execute_result"
    }
   ],
   "source": [
    "stock_change.reshape(10,8)"
   ]
  },
  {
   "cell_type": "code",
   "execution_count": 14,
   "id": "ef8c8b2c",
   "metadata": {},
   "outputs": [],
   "source": [
    "stock_change.resize(10,8)"
   ]
  },
  {
   "cell_type": "code",
   "execution_count": 15,
   "id": "1ed9c275",
   "metadata": {},
   "outputs": [
    {
     "data": {
      "text/plain": [
       "(10, 8)"
      ]
     },
     "execution_count": 15,
     "metadata": {},
     "output_type": "execute_result"
    }
   ],
   "source": [
    "stock_change.shape"
   ]
  },
  {
   "cell_type": "code",
   "execution_count": 16,
   "id": "1b826bd1",
   "metadata": {},
   "outputs": [
    {
     "data": {
      "text/plain": [
       "array([[ 0.82716238, -0.76833807, -1.15567935,  0.3695518 , -0.61584565,\n",
       "         1.36072733,  1.31172478,  0.11125941],\n",
       "       [-0.83197207,  0.92138167, -0.44504957, -2.26739089, -0.30503325,\n",
       "         0.3842482 , -0.82475165,  0.89206984],\n",
       "       [ 1.57404291, -0.89053898,  1.35420451,  2.0640473 , -1.61347795,\n",
       "         1.22043649, -0.12540567,  0.95497449],\n",
       "       [ 0.36473136, -0.35920108,  0.53337271, -0.61648302,  1.49509238,\n",
       "        -0.29553616, -0.1818543 ,  0.14769803],\n",
       "       [ 0.87197113, -1.73676823, -0.52149698, -0.71766661, -0.23871577,\n",
       "         0.03961985,  0.56294667,  0.13448239],\n",
       "       [-0.45286828,  0.47569096,  1.01739356, -0.35630093, -0.25939378,\n",
       "         0.23863044, -0.90545052, -0.4003178 ],\n",
       "       [ 0.01297224,  0.71825994,  0.41718422,  0.77251992,  0.60821091,\n",
       "         0.73866967,  2.15775236, -1.1480051 ],\n",
       "       [-1.15206581, -1.53818298, -1.28496923,  0.04934903,  1.01910768,\n",
       "        -2.40375586,  0.1358033 ,  0.48548419],\n",
       "       [-0.4737201 , -0.0007625 , -0.28093578, -1.43268528,  0.13049519,\n",
       "         0.50065866, -2.11572125, -1.23967043],\n",
       "       [ 1.02075362, -1.25210201, -0.49363172, -0.3233035 , -0.75422993,\n",
       "        -1.27968713, -0.71817743,  0.13906543]])"
      ]
     },
     "execution_count": 16,
     "metadata": {},
     "output_type": "execute_result"
    }
   ],
   "source": [
    "stock_change"
   ]
  },
  {
   "cell_type": "code",
   "execution_count": 17,
   "id": "1d28b1c3",
   "metadata": {},
   "outputs": [
    {
     "data": {
      "text/plain": [
       "array([[ 0.82716238, -0.83197207,  1.57404291,  0.36473136,  0.87197113,\n",
       "        -0.45286828,  0.01297224, -1.15206581, -0.4737201 ,  1.02075362],\n",
       "       [-0.76833807,  0.92138167, -0.89053898, -0.35920108, -1.73676823,\n",
       "         0.47569096,  0.71825994, -1.53818298, -0.0007625 , -1.25210201],\n",
       "       [-1.15567935, -0.44504957,  1.35420451,  0.53337271, -0.52149698,\n",
       "         1.01739356,  0.41718422, -1.28496923, -0.28093578, -0.49363172],\n",
       "       [ 0.3695518 , -2.26739089,  2.0640473 , -0.61648302, -0.71766661,\n",
       "        -0.35630093,  0.77251992,  0.04934903, -1.43268528, -0.3233035 ],\n",
       "       [-0.61584565, -0.30503325, -1.61347795,  1.49509238, -0.23871577,\n",
       "        -0.25939378,  0.60821091,  1.01910768,  0.13049519, -0.75422993],\n",
       "       [ 1.36072733,  0.3842482 ,  1.22043649, -0.29553616,  0.03961985,\n",
       "         0.23863044,  0.73866967, -2.40375586,  0.50065866, -1.27968713],\n",
       "       [ 1.31172478, -0.82475165, -0.12540567, -0.1818543 ,  0.56294667,\n",
       "        -0.90545052,  2.15775236,  0.1358033 , -2.11572125, -0.71817743],\n",
       "       [ 0.11125941,  0.89206984,  0.95497449,  0.14769803,  0.13448239,\n",
       "        -0.4003178 , -1.1480051 ,  0.48548419, -1.23967043,  0.13906543]])"
      ]
     },
     "execution_count": 17,
     "metadata": {},
     "output_type": "execute_result"
    }
   ],
   "source": [
    "stock_change.T##转置，行变成列，列变成行"
   ]
  },
  {
   "cell_type": "markdown",
   "id": "2b1e671b",
   "metadata": {},
   "source": [
    "# 类型的修改"
   ]
  },
  {
   "cell_type": "code",
   "execution_count": 18,
   "id": "5a781730",
   "metadata": {},
   "outputs": [
    {
     "data": {
      "text/plain": [
       "array([[ 0,  0, -1,  0,  0,  1,  1,  0],\n",
       "       [ 0,  0,  0, -2,  0,  0,  0,  0],\n",
       "       [ 1,  0,  1,  2, -1,  1,  0,  0],\n",
       "       [ 0,  0,  0,  0,  1,  0,  0,  0],\n",
       "       [ 0, -1,  0,  0,  0,  0,  0,  0],\n",
       "       [ 0,  0,  1,  0,  0,  0,  0,  0],\n",
       "       [ 0,  0,  0,  0,  0,  0,  2, -1],\n",
       "       [-1, -1, -1,  0,  1, -2,  0,  0],\n",
       "       [ 0,  0,  0, -1,  0,  0, -2, -1],\n",
       "       [ 1, -1,  0,  0,  0, -1,  0,  0]])"
      ]
     },
     "execution_count": 18,
     "metadata": {},
     "output_type": "execute_result"
    }
   ],
   "source": [
    "stock_change.astype(\"int32\")"
   ]
  },
  {
   "cell_type": "code",
   "execution_count": 19,
   "id": "282359f0",
   "metadata": {},
   "outputs": [
    {
     "name": "stderr",
     "output_type": "stream",
     "text": [
      "C:\\Users\\Dell\\AppData\\Local\\Temp\\ipykernel_21204\\2974151914.py:1: DeprecationWarning: tostring() is deprecated. Use tobytes() instead.\n",
      "  stock_change.tostring()\n"
     ]
    },
    {
     "data": {
      "text/plain": [
       "b'\\xa6aC>\\x1dx\\xea?\\xd2\\xb1v\\xb89\\x96\\xe8\\xbf\\xfb\\xd8N\\xa1\\xa9}\\xf2\\xbf\\xc7\\x0b\\xaa\\x98\\xbc\\xa6\\xd7?\\xb7(P\\xef\\x01\\xb5\\xe3\\xbf\\x8f\\xe9-\\x04\\x8a\\xc5\\xf5?\\xb7\\xa2^\\x1f\\xd3\\xfc\\xf4?\\xcc;\\xa7$\\x7f{\\xbc?s\\xe8\\x18\\xe6\\x83\\x9f\\xea\\xbf\\xf8m\\tl\\xf5{\\xed?\\xfb\\xf3\\xc71\\xb1{\\xdc\\xbf\\x1fsY\\xd5\\x9d#\\x02\\xc0\\xc0\\x17{3\\xaa\\x85\\xd3\\xbfC\\xd5m\\xbe\\x85\\x97\\xd8?wx7\\x92]d\\xea\\xbfVa\\xe5\\t\\xd6\\x8b\\xec?\\x9c\\x92x\\x9fG/\\xf9?\\xffG\\xf3\\x98K\\x7f\\xec\\xbf\\x93f\\xdbW\\xd2\\xaa\\xf5?\\xffC\\x14;+\\x83\\x00@\\x01U\\x0bB\\xce\\xd0\\xf9\\xbf\\xae}\\xc1i\\xe8\\x86\\xf3?0\\x02y\\x06K\\r\\xc0\\xbf\\xfb\\xca\\xf1\\xa6&\\x8f\\xee?\\xab\\xa2.2\\xc2W\\xd7?\\n\\xebE\\x8a&\\xfd\\xd6\\xbf\\xe8\\x9b-\\xa7c\\x11\\xe1?i\\xc4\\xaa\\x99:\\xba\\xe3\\xbf\\xac\\xda\\xa4\\xfc\\xe5\\xeb\\xf7?3\\x9a\\xc0z\\x10\\xea\\xd2\\xbf\\x92\\xebzt\\x00G\\xc7\\xbf\\xf3B\\xe1\\xe0\\xc4\\xe7\\xc2?F\\xab$\\x020\\xe7\\xeb?\\xc8\\xbe\\xe0|\\xcd\\xc9\\xfb\\xbf.b\\xf8n\\x1a\\xb0\\xe0\\xbf\\x9d\\xd6\\xb7\\xf8\\x1f\\xf7\\xe6\\xbf\\xb3\\xffp\\n=\\x8e\\xce\\xbf.\\\\F\\x8a\\rI\\xa4?Ho*\\xbb\\xa8\\x03\\xe2?\\xa1\\xf1\\xe7\\x0e\\xb86\\xc1?8\\xab\\xda:\\xcb\\xfb\\xdc\\xbf\\xe3\\x050\\x80\\xb8q\\xde?\\x9c$wx>G\\xf0?\\xf0,An\\xa2\\xcd\\xd6\\xbfT\\x92\\xe4b\\xe8\\x99\\xd0\\xbf\\tW\\xe9?q\\x8b\\xce?n\\x18I]s\\xf9\\xec\\xbfMr\\xf7\\x88\\xce\\x9e\\xd9\\xbf\\x91\\x9b\\'\\x930\\x91\\x8a?\\r\\x03hD\\xfc\\xfb\\xe6?S)\\xfdu%\\xb3\\xda?\\x11L\\xa0\\xb4{\\xb8\\xe8?\\x7fd^\\xbbvv\\xe3?\\'M\\x89\\x92.\\xa3\\xe7?\\xdf\\xe4\\xf2\\xaa\\x13C\\x01@B\\xcd\\x1f\\x98:^\\xf2\\xbfY\\x9e\\xd9\\x8e\\xdcn\\xf2\\xbf6\"\\x80\\xc1e\\x9c\\xf8\\xbfTZ\\x05\\xe5;\\x8f\\xf4\\xbf\\x0c\\xfb\\xa3\\xc0FD\\xa9?\\x18\\x1a\\xdb\\xd9CN\\xf0?\\x81\\x10\\xcbY\\xe4:\\x03\\xc0\\xa0^*\\xa0\\x00b\\xc1?\\xf2z\\xf9I,\\x12\\xdf?\\x8e\\xa6p!nQ\\xde\\xbfB\\x07>EO\\xfcH\\xbf*\\xee\\x13\\x13\\xda\\xfa\\xd1\\xbf\\x8dO2eG\\xec\\xf6\\xbfj\\xa4[\\xfc\\x10\\xb4\\xc0?\\xc8\\xcb\\xfaQe\\x05\\xe0?\\xd4\\xa9\\xd7C\\xff\\xec\\x00\\xc0\\xe0\\xce\\x8c\\xa9\\xb0\\xd5\\xf3\\xbf<\\xa7#\\xc0\\x01U\\xf0?X\\x9c\\x00\\x1d\\x9c\\x08\\xf4\\xbf\\xc8X\\xd8\\x82\\xa9\\x97\\xdf\\xbf^\\xfew%\\x01\\xb1\\xd4\\xbfnh\\xdb\\xcc\\xa6\"\\xe8\\xbf\\xb8(\\x0c5\\x99y\\xf4\\xbf&#k=O\\xfb\\xe6\\xbfm\\xc4eZ\\xe5\\xcc\\xc1?'"
      ]
     },
     "execution_count": 19,
     "metadata": {},
     "output_type": "execute_result"
    }
   ],
   "source": [
    "stock_change.tostring()##转换成bytes"
   ]
  },
  {
   "cell_type": "markdown",
   "id": "9cdf52e4",
   "metadata": {},
   "source": [
    "# ndarray 运算"
   ]
  },
  {
   "cell_type": "markdown",
   "id": "569622a4",
   "metadata": {},
   "source": [
    "# 逻辑运算"
   ]
  },
  {
   "cell_type": "code",
   "execution_count": 22,
   "id": "51837ad5",
   "metadata": {},
   "outputs": [
    {
     "data": {
      "text/plain": [
       "array([[-1.66129697, -0.84996973, -0.34463799, -0.13161305, -0.18272239,\n",
       "         1.04512725, -2.06594596, -0.39865074,  0.33869219,  0.17022719],\n",
       "       [ 1.8361702 , -1.53022284, -0.77201993, -0.92606508, -1.07944488,\n",
       "        -2.37364369,  0.31610888, -0.20334351, -0.42267611,  0.95361208],\n",
       "       [-0.34106909, -0.69220602,  0.03338146,  0.31443616,  1.53706265,\n",
       "         0.66399324, -0.79848442,  0.17236549,  0.81553125,  0.19200087],\n",
       "       [ 0.13825855,  1.18964908, -0.25541885,  3.01494408,  0.7922546 ,\n",
       "         0.10866908,  0.15709857, -0.4651879 ,  0.57978566, -2.26894965],\n",
       "       [ 0.55428163, -0.13697481, -0.42850767,  0.59473047, -0.09475739,\n",
       "         1.19256617, -2.04360922, -0.29400037, -0.13945239,  0.54417052],\n",
       "       [-0.83474533,  0.58600967,  0.46642057,  0.79860197, -0.37763469,\n",
       "         1.17757732, -0.1451339 , -1.95442573, -1.83920232,  0.79752049],\n",
       "       [ 1.83209698, -1.1607412 ,  0.25986926,  0.19318281, -0.53974278,\n",
       "         0.85124241, -0.60343926,  1.28973583, -0.96322334,  1.45886528],\n",
       "       [-2.02834602,  1.41067644,  2.79826314, -0.21897586, -0.17396543,\n",
       "        -1.43089645, -1.267481  ,  0.93258507, -0.50006762,  1.00435673]])"
      ]
     },
     "execution_count": 22,
     "metadata": {},
     "output_type": "execute_result"
    }
   ],
   "source": [
    "import numpy as np\n",
    "np.set_printoptions(suppress=True)\n",
    "stock_change=np.random.normal(loc=0,scale=1,size=(8,10))\n",
    "stock_change"
   ]
  },
  {
   "cell_type": "code",
   "execution_count": 23,
   "id": "617898a7",
   "metadata": {},
   "outputs": [
    {
     "data": {
      "text/plain": [
       "array([[False, False, False, False, False,  True, False, False, False,\n",
       "        False],\n",
       "       [ True, False, False, False, False, False, False, False, False,\n",
       "         True],\n",
       "       [False, False, False, False,  True,  True, False, False,  True,\n",
       "        False],\n",
       "       [False,  True, False,  True,  True, False, False, False,  True,\n",
       "        False],\n",
       "       [ True, False, False,  True, False,  True, False, False, False,\n",
       "         True],\n",
       "       [False,  True, False,  True, False,  True, False, False, False,\n",
       "         True],\n",
       "       [ True, False, False, False, False,  True, False,  True, False,\n",
       "         True],\n",
       "       [False,  True,  True, False, False, False, False,  True, False,\n",
       "         True]])"
      ]
     },
     "execution_count": 23,
     "metadata": {},
     "output_type": "execute_result"
    }
   ],
   "source": [
    "stock_change>0.5"
   ]
  },
  {
   "cell_type": "code",
   "execution_count": 25,
   "id": "04c08534",
   "metadata": {},
   "outputs": [
    {
     "data": {
      "text/plain": [
       "array([[-1.66129697, -0.84996973, -0.34463799, -0.13161305, -0.18272239,\n",
       "         1.1       , -2.06594596, -0.39865074,  0.33869219,  0.17022719],\n",
       "       [ 1.1       , -1.53022284, -0.77201993, -0.92606508, -1.07944488,\n",
       "        -2.37364369,  0.31610888, -0.20334351, -0.42267611,  1.1       ],\n",
       "       [-0.34106909, -0.69220602,  0.03338146,  0.31443616,  1.1       ,\n",
       "         1.1       , -0.79848442,  0.17236549,  1.1       ,  0.19200087],\n",
       "       [ 0.13825855,  1.1       , -0.25541885,  1.1       ,  1.1       ,\n",
       "         0.10866908,  0.15709857, -0.4651879 ,  1.1       , -2.26894965],\n",
       "       [ 1.1       , -0.13697481, -0.42850767,  1.1       , -0.09475739,\n",
       "         1.1       , -2.04360922, -0.29400037, -0.13945239,  1.1       ],\n",
       "       [-0.83474533,  1.1       ,  0.46642057,  1.1       , -0.37763469,\n",
       "         1.1       , -0.1451339 , -1.95442573, -1.83920232,  1.1       ],\n",
       "       [ 1.1       , -1.1607412 ,  0.25986926,  0.19318281, -0.53974278,\n",
       "         1.1       , -0.60343926,  1.1       , -0.96322334,  1.1       ],\n",
       "       [-2.02834602,  1.1       ,  1.1       , -0.21897586, -0.17396543,\n",
       "        -1.43089645, -1.267481  ,  1.1       , -0.50006762,  1.1       ]])"
      ]
     },
     "execution_count": 25,
     "metadata": {},
     "output_type": "execute_result"
    }
   ],
   "source": [
    "stock_change[stock_change>0.5]=1.1\n",
    "stock_change"
   ]
  },
  {
   "cell_type": "markdown",
   "id": "1acefb21",
   "metadata": {},
   "source": [
    "# 通用判断函数"
   ]
  },
  {
   "cell_type": "code",
   "execution_count": 26,
   "id": "014ded2e",
   "metadata": {},
   "outputs": [],
   "source": [
    "#np.all    只要有一个flase就返回false"
   ]
  },
  {
   "cell_type": "code",
   "execution_count": 27,
   "id": "1a325417",
   "metadata": {},
   "outputs": [],
   "source": [
    "#np.any   只要有一个true就返回true"
   ]
  },
  {
   "cell_type": "code",
   "execution_count": 28,
   "id": "f29c08ac",
   "metadata": {},
   "outputs": [],
   "source": [
    "#np.where   三元运算符    np.where(temp>1,1,0)      大于0则返回1，否则返回0"
   ]
  },
  {
   "cell_type": "code",
   "execution_count": 34,
   "id": "372b58a1",
   "metadata": {},
   "outputs": [
    {
     "data": {
      "text/plain": [
       "array([[-1.66129697, -0.84996973, -0.34463799, -0.13161305],\n",
       "       [ 1.1       , -1.53022284, -0.77201993, -0.92606508],\n",
       "       [-0.34106909, -0.69220602,  0.03338146,  0.31443616],\n",
       "       [ 0.13825855,  1.1       , -0.25541885,  1.1       ]])"
      ]
     },
     "execution_count": 34,
     "metadata": {},
     "output_type": "execute_result"
    }
   ],
   "source": [
    "#判断前四个股票前四天的涨跌幅大于0.5并且小于1的，换为1，否则为0\n",
    "#判断前四个股票前四天的涨跌幅大于0.5或者小于-0.5的，换为1，否则为0\n",
    "temp=stock_change[:4,:4]\n",
    "temp\n"
   ]
  },
  {
   "cell_type": "code",
   "execution_count": 35,
   "id": "9f2a7ef7",
   "metadata": {},
   "outputs": [
    {
     "data": {
      "text/plain": [
       "array([[1, 1, 0, 0],\n",
       "       [1, 1, 1, 1],\n",
       "       [0, 1, 0, 0],\n",
       "       [0, 1, 0, 1]])"
      ]
     },
     "execution_count": 35,
     "metadata": {},
     "output_type": "execute_result"
    }
   ],
   "source": [
    "np.where(np.logical_or(temp>0.5, temp<-0.5),1,0)"
   ]
  },
  {
   "cell_type": "code",
   "execution_count": 38,
   "id": "19a9165c",
   "metadata": {},
   "outputs": [
    {
     "data": {
      "text/plain": [
       "array([[0, 0, 0, 0],\n",
       "       [0, 0, 0, 0],\n",
       "       [0, 0, 0, 0],\n",
       "       [0, 0, 0, 0]])"
      ]
     },
     "execution_count": 38,
     "metadata": {},
     "output_type": "execute_result"
    }
   ],
   "source": [
    "np.where(np.logical_and(temp>0.5, temp<1),1,0)"
   ]
  },
  {
   "cell_type": "markdown",
   "id": "189ff2f9",
   "metadata": {},
   "source": [
    "# 数组间的运算"
   ]
  },
  {
   "cell_type": "code",
   "execution_count": 41,
   "id": "4173cd9c",
   "metadata": {},
   "outputs": [
    {
     "name": "stdout",
     "output_type": "stream",
     "text": [
      "[[2 3 4 5]\n",
      " [6 7 8 9]]\n",
      "[[0.5 1.  1.5 2. ]\n",
      " [2.5 3.  3.5 4. ]]\n"
     ]
    }
   ],
   "source": [
    "arr=np.array([[1,2,3,4],[5,6,7,8]])\n",
    "print(arr+1)\n",
    "print(arr/2)"
   ]
  },
  {
   "cell_type": "code",
   "execution_count": 49,
   "id": "b721f5df",
   "metadata": {},
   "outputs": [
    {
     "name": "stdout",
     "output_type": "stream",
     "text": [
      "[11]\n",
      "[11, 12]\n",
      "[11, 12, 13]\n",
      "[11, 12, 13, 14]\n",
      "[11, 12, 13, 14, 15]\n"
     ]
    },
    {
     "data": {
      "text/plain": [
       "[11, 12, 13, 14, 15]"
      ]
     },
     "execution_count": 49,
     "metadata": {},
     "output_type": "execute_result"
    }
   ],
   "source": [
    "a=[1,2,3,4,5]\n",
    "b_values=[]\n",
    "\n",
    "for i in a:\n",
    "    b=i+10\n",
    "    b_values.append(b)\n",
    "    print(b_values)\n",
    "\n",
    "b_values"
   ]
  },
  {
   "cell_type": "markdown",
   "id": "f0dde74f",
   "metadata": {},
   "source": [
    "# 广播机制"
   ]
  },
  {
   "cell_type": "code",
   "execution_count": null,
   "id": "0bf23180",
   "metadata": {},
   "outputs": [],
   "source": [
    "##执行broadcast的前提在于，两个ndarray执行的是element-wise的运算，Broadcast机制的功能是为了\n",
    "##方便不同形状的ndarray(numpy)库的核心数据结构)进行数学运算。"
   ]
  },
  {
   "cell_type": "code",
   "execution_count": 52,
   "id": "476192ff",
   "metadata": {},
   "outputs": [
    {
     "data": {
      "text/plain": [
       "array([[ 2,  3,  4,  5,  6,  7],\n",
       "       [10, 11, 12, 13, 14, 15]])"
      ]
     },
     "execution_count": 52,
     "metadata": {},
     "output_type": "execute_result"
    }
   ],
   "source": [
    "array1=np.array([[1,2,3,4,5,6],[7,8,9,10,11,12]])\n",
    "array2=np.array([[1],[3]])\n",
    "array1+array2"
   ]
  },
  {
   "cell_type": "code",
   "execution_count": 53,
   "id": "85014f2f",
   "metadata": {},
   "outputs": [
    {
     "data": {
      "text/plain": [
       "array([[ 1,  2,  3,  4,  5,  6],\n",
       "       [21, 24, 27, 30, 33, 36]])"
      ]
     },
     "execution_count": 53,
     "metadata": {},
     "output_type": "execute_result"
    }
   ],
   "source": [
    "array1*array2"
   ]
  },
  {
   "cell_type": "markdown",
   "id": "d125bc03",
   "metadata": {},
   "source": [
    "# 矩阵运算"
   ]
  },
  {
   "cell_type": "code",
   "execution_count": 56,
   "id": "9eeb239a",
   "metadata": {},
   "outputs": [
    {
     "data": {
      "text/plain": [
       "array([[80, 85],\n",
       "       [82, 80],\n",
       "       [85, 78],\n",
       "       [90, 90],\n",
       "       [86, 82],\n",
       "       [82, 90],\n",
       "       [78, 80],\n",
       "       [92, 94]])"
      ]
     },
     "execution_count": 56,
     "metadata": {},
     "output_type": "execute_result"
    }
   ],
   "source": [
    "a=np.array([[80,85],[82,80],[85,78],[90,90],[86,82],[82,90],[78,80],[92,94]])\n",
    "a"
   ]
  },
  {
   "cell_type": "code",
   "execution_count": 57,
   "id": "ef0b6076",
   "metadata": {},
   "outputs": [
    {
     "data": {
      "text/plain": [
       "array([[0, 3],\n",
       "       [0, 7]])"
      ]
     },
     "execution_count": 57,
     "metadata": {},
     "output_type": "execute_result"
    }
   ],
   "source": [
    "b=np.array([[0,3],[0,7]])\n",
    "b"
   ]
  },
  {
   "cell_type": "code",
   "execution_count": 59,
   "id": "62741082",
   "metadata": {},
   "outputs": [],
   "source": [
    "a_matrix=np.mat(a)"
   ]
  },
  {
   "cell_type": "code",
   "execution_count": 60,
   "id": "6c2349a4",
   "metadata": {},
   "outputs": [
    {
     "data": {
      "text/plain": [
       "matrix([[80, 85],\n",
       "        [82, 80],\n",
       "        [85, 78],\n",
       "        [90, 90],\n",
       "        [86, 82],\n",
       "        [82, 90],\n",
       "        [78, 80],\n",
       "        [92, 94]])"
      ]
     },
     "execution_count": 60,
     "metadata": {},
     "output_type": "execute_result"
    }
   ],
   "source": [
    "a_matrix"
   ]
  },
  {
   "cell_type": "code",
   "execution_count": 61,
   "id": "e796159c",
   "metadata": {},
   "outputs": [
    {
     "data": {
      "text/plain": [
       "numpy.matrix"
      ]
     },
     "execution_count": 61,
     "metadata": {},
     "output_type": "execute_result"
    }
   ],
   "source": [
    "type(a_matrix)"
   ]
  },
  {
   "cell_type": "markdown",
   "id": "8cf65e6b",
   "metadata": {},
   "source": [
    "# 矩阵的乘法运算"
   ]
  },
  {
   "cell_type": "code",
   "execution_count": 62,
   "id": "d1a46adf",
   "metadata": {},
   "outputs": [
    {
     "data": {
      "text/plain": [
       "array([[80, 85],\n",
       "       [82, 80],\n",
       "       [85, 78],\n",
       "       [90, 90],\n",
       "       [86, 82],\n",
       "       [82, 90],\n",
       "       [78, 80],\n",
       "       [92, 94]])"
      ]
     },
     "execution_count": 62,
     "metadata": {},
     "output_type": "execute_result"
    }
   ],
   "source": [
    "a  #(8,2)*(2,1)=(8,1)"
   ]
  },
  {
   "cell_type": "code",
   "execution_count": 63,
   "id": "671d4f27",
   "metadata": {},
   "outputs": [
    {
     "data": {
      "text/plain": [
       "array([[0.3],\n",
       "       [0.7]])"
      ]
     },
     "execution_count": 63,
     "metadata": {},
     "output_type": "execute_result"
    }
   ],
   "source": [
    "weight=np.array([[0.3],[0.7]])\n",
    "weight"
   ]
  },
  {
   "cell_type": "code",
   "execution_count": 65,
   "id": "3c7383f3",
   "metadata": {},
   "outputs": [
    {
     "data": {
      "text/plain": [
       "matrix([[0.3],\n",
       "        [0.7]])"
      ]
     },
     "execution_count": 65,
     "metadata": {},
     "output_type": "execute_result"
    }
   ],
   "source": [
    "weight_mat=np.mat([[0.3],[0.7]])\n",
    "weight_mat"
   ]
  },
  {
   "cell_type": "code",
   "execution_count": 66,
   "id": "925fa9b8",
   "metadata": {},
   "outputs": [
    {
     "data": {
      "text/plain": [
       "matrix([[83.5],\n",
       "        [80.6],\n",
       "        [80.1],\n",
       "        [90. ],\n",
       "        [83.2],\n",
       "        [87.6],\n",
       "        [79.4],\n",
       "        [93.4]])"
      ]
     },
     "execution_count": 66,
     "metadata": {},
     "output_type": "execute_result"
    }
   ],
   "source": [
    "a_matrix*weight_mat"
   ]
  },
  {
   "cell_type": "code",
   "execution_count": 68,
   "id": "59532d6c",
   "metadata": {},
   "outputs": [
    {
     "data": {
      "text/plain": [
       "array([[83.5],\n",
       "       [80.6],\n",
       "       [80.1],\n",
       "       [90. ],\n",
       "       [83.2],\n",
       "       [87.6],\n",
       "       [79.4],\n",
       "       [93.4]])"
      ]
     },
     "execution_count": 68,
     "metadata": {},
     "output_type": "execute_result"
    }
   ],
   "source": [
    "np.matmul(a,weight)\n"
   ]
  },
  {
   "cell_type": "code",
   "execution_count": 69,
   "id": "b2f13533",
   "metadata": {},
   "outputs": [
    {
     "data": {
      "text/plain": [
       "array([[83.5],\n",
       "       [80.6],\n",
       "       [80.1],\n",
       "       [90. ],\n",
       "       [83.2],\n",
       "       [87.6],\n",
       "       [79.4],\n",
       "       [93.4]])"
      ]
     },
     "execution_count": 69,
     "metadata": {},
     "output_type": "execute_result"
    }
   ],
   "source": [
    "np.dot(a,weight)"
   ]
  },
  {
   "cell_type": "code",
   "execution_count": 70,
   "id": "064fe7f6",
   "metadata": {},
   "outputs": [
    {
     "data": {
      "text/plain": [
       "array([[83.5],\n",
       "       [80.6],\n",
       "       [80.1],\n",
       "       [90. ],\n",
       "       [83.2],\n",
       "       [87.6],\n",
       "       [79.4],\n",
       "       [93.4]])"
      ]
     },
     "execution_count": 70,
     "metadata": {},
     "output_type": "execute_result"
    }
   ],
   "source": [
    "a @weight  ##直接数组相乘"
   ]
  },
  {
   "cell_type": "code",
   "execution_count": 71,
   "id": "0e0f3a71",
   "metadata": {},
   "outputs": [],
   "source": [
    "#矩阵在计算机存储是二维数组，而二维数组不是矩阵，因为广播机制的作用，不能进行矩阵那样的运算"
   ]
  },
  {
   "cell_type": "markdown",
   "id": "98c659b2",
   "metadata": {},
   "source": [
    "# 合并与分割"
   ]
  },
  {
   "cell_type": "code",
   "execution_count": 78,
   "id": "273f456a",
   "metadata": {},
   "outputs": [
    {
     "data": {
      "text/plain": [
       "array([1, 2, 3, 2, 3, 4])"
      ]
     },
     "execution_count": 78,
     "metadata": {},
     "output_type": "execute_result"
    }
   ],
   "source": [
    "a=np.array((1,2,3))\n",
    "b=np.array((2,3,4))\n",
    "np.hstack((a,b))\n"
   ]
  },
  {
   "cell_type": "code",
   "execution_count": 77,
   "id": "ffc27247",
   "metadata": {},
   "outputs": [
    {
     "data": {
      "text/plain": [
       "array([[1, 2, 3],\n",
       "       [2, 3, 4]])"
      ]
     },
     "execution_count": 77,
     "metadata": {},
     "output_type": "execute_result"
    }
   ],
   "source": [
    "np.vstack((a,b))"
   ]
  },
  {
   "cell_type": "code",
   "execution_count": null,
   "id": "b88335bc",
   "metadata": {},
   "outputs": [],
   "source": []
  },
  {
   "cell_type": "code",
   "execution_count": 80,
   "id": "b702546c",
   "metadata": {},
   "outputs": [
    {
     "data": {
      "text/plain": [
       "array([[1, 2],\n",
       "       [2, 3],\n",
       "       [3, 4]])"
      ]
     },
     "execution_count": 80,
     "metadata": {},
     "output_type": "execute_result"
    }
   ],
   "source": [
    "a=np.array([[1],[2],[3]])\n",
    "b=np.array([[2],[3],[4]])\n",
    "np.hstack((a,b))"
   ]
  },
  {
   "cell_type": "code",
   "execution_count": 81,
   "id": "5434ad1b",
   "metadata": {},
   "outputs": [
    {
     "data": {
      "text/plain": [
       "array([[1],\n",
       "       [2],\n",
       "       [3],\n",
       "       [2],\n",
       "       [3],\n",
       "       [4]])"
      ]
     },
     "execution_count": 81,
     "metadata": {},
     "output_type": "execute_result"
    }
   ],
   "source": [
    "np.vstack((a,b))"
   ]
  },
  {
   "cell_type": "code",
   "execution_count": 82,
   "id": "bc223029",
   "metadata": {},
   "outputs": [
    {
     "data": {
      "text/plain": [
       "array([[1, 2],\n",
       "       [3, 4],\n",
       "       [5, 6]])"
      ]
     },
     "execution_count": 82,
     "metadata": {},
     "output_type": "execute_result"
    }
   ],
   "source": [
    "a=np.array([[1,2],[3,4]])\n",
    "b=np.array([[5,6]])\n",
    "np.concatenate((a,b),axis=0) #axis=0表示列方向 axis=1表示行方向"
   ]
  },
  {
   "cell_type": "code",
   "execution_count": 83,
   "id": "0df6843e",
   "metadata": {},
   "outputs": [
    {
     "data": {
      "text/plain": [
       "array([[1, 2, 5],\n",
       "       [3, 4, 6]])"
      ]
     },
     "execution_count": 83,
     "metadata": {},
     "output_type": "execute_result"
    }
   ],
   "source": [
    "np.concatenate((a,b.T),axis=1)"
   ]
  },
  {
   "cell_type": "markdown",
   "id": "ed502307",
   "metadata": {},
   "source": [
    "# IO操作和数据处理"
   ]
  },
  {
   "cell_type": "code",
   "execution_count": 84,
   "id": "3b962292",
   "metadata": {},
   "outputs": [
    {
     "data": {
      "text/plain": [
       "array([[  nan,   nan,   nan,   nan],\n",
       "       [  1. , 123. ,   1.4,  23. ],\n",
       "       [  2. , 110. ,   nan,  18. ],\n",
       "       [  3. ,   nan,   2.1,  19. ]])"
      ]
     },
     "execution_count": 84,
     "metadata": {},
     "output_type": "execute_result"
    }
   ],
   "source": [
    "data=np.genfromtxt(\"test.csv\",delimiter=\",\")\n",
    "data"
   ]
  },
  {
   "cell_type": "markdown",
   "id": "c0e53426",
   "metadata": {},
   "source": [
    "# 如何处理缺失值"
   ]
  },
  {
   "cell_type": "code",
   "execution_count": null,
   "id": "78e3638c",
   "metadata": {},
   "outputs": [],
   "source": [
    "#1、数据量大的时候，直接删除含有缺失值的样本\n",
    "#2、数据量少的时候，替换/插补"
   ]
  },
  {
   "cell_type": "code",
   "execution_count": 88,
   "id": "11561131",
   "metadata": {},
   "outputs": [
    {
     "data": {
      "text/plain": [
       "numpy.float64"
      ]
     },
     "execution_count": 88,
     "metadata": {},
     "output_type": "execute_result"
    }
   ],
   "source": [
    "type(data[2,2])"
   ]
  },
  {
   "cell_type": "code",
   "execution_count": 90,
   "id": "be485b47",
   "metadata": {},
   "outputs": [
    {
     "ename": "SyntaxError",
     "evalue": "invalid syntax. Perhaps you forgot a comma? (1629038357.py, line 12)",
     "output_type": "error",
     "traceback": [
      "\u001b[1;36m  Cell \u001b[1;32mIn [90], line 12\u001b[1;36m\u001b[0m\n\u001b[1;33m    now_col[np.isnan(now col)]=now_col_mean\u001b[0m\n\u001b[1;37m                     ^\u001b[0m\n\u001b[1;31mSyntaxError\u001b[0m\u001b[1;31m:\u001b[0m invalid syntax. Perhaps you forgot a comma?\n"
     ]
    }
   ],
   "source": [
    "def fill_nan_by_column_mean(t):\n",
    "    for i in range(t.shape[1]):\n",
    "      #计算nan的个数\n",
    "           nan_num=np.count_nonzero(t[:,i][t[:,i]!=t[:,i]])\n",
    "           if nan_num >0:\n",
    "                now_col=t[:,i]\n",
    "                #求和\n",
    "                now_col_not_nan=now_col[np.isnan(now_col)==False].sum()\n",
    "                #和/个数\n",
    "                now_col_mean=now_col_not_nan /(t.shape[0]-nan_num)\n",
    "                #赋值给now col\n",
    "                now_col[np.isnan(now col)]=now_col_mean\n",
    "                #赋值给t,即更新t的当前列\n",
    "                t[:,i]=now_col\n",
    "    return t"
   ]
  },
  {
   "cell_type": "code",
   "execution_count": 93,
   "id": "184b2bb4",
   "metadata": {},
   "outputs": [
    {
     "data": {
      "text/plain": [
       "array([[  nan,   nan,   nan,   nan],\n",
       "       [  1. , 123. ,   1.4,  23. ],\n",
       "       [  2. , 110. ,   nan,  18. ],\n",
       "       [  3. ,   nan,   2.1,  19. ]])"
      ]
     },
     "execution_count": 93,
     "metadata": {},
     "output_type": "execute_result"
    }
   ],
   "source": [
    "data"
   ]
  },
  {
   "cell_type": "code",
   "execution_count": 94,
   "id": "dbd0e762",
   "metadata": {},
   "outputs": [],
   "source": [
    "import numpy as np\n",
    "\n",
    "def fill_nan_by_column_mean(t):\n",
    "    for i in range(t.shape[1]):\n",
    "        # 计算 NaN 的个数\n",
    "        nan_num = np.count_nonzero(np.isnan(t[:, i]))\n",
    "        if nan_num > 0:\n",
    "            now_col = t[:, i]\n",
    "            # 求和\n",
    "            now_col_not_nan = now_col[np.isnan(now_col) == False].sum()\n",
    "            # 和 / 个数\n",
    "            now_col_mean = now_col_not_nan / (t.shape[0] - nan_num)\n",
    "            # 赋值给 now_col\n",
    "            now_col[np.isnan(now_col)] = now_col_mean\n",
    "            # 赋值给 t, 即更新 t 的当前列\n",
    "            t[:, i] = now_col\n",
    "    return t\n"
   ]
  },
  {
   "cell_type": "code",
   "execution_count": 95,
   "id": "9ced5d02",
   "metadata": {},
   "outputs": [
    {
     "data": {
      "text/plain": [
       "array([[  2.  , 116.5 ,   1.75,  20.  ],\n",
       "       [  1.  , 123.  ,   1.4 ,  23.  ],\n",
       "       [  2.  , 110.  ,   1.75,  18.  ],\n",
       "       [  3.  , 116.5 ,   2.1 ,  19.  ]])"
      ]
     },
     "execution_count": 95,
     "metadata": {},
     "output_type": "execute_result"
    }
   ],
   "source": [
    "fill_nan_by_column_mean(data)"
   ]
  }
 ],
 "metadata": {
  "kernelspec": {
   "display_name": "Python 3 (ipykernel)",
   "language": "python",
   "name": "python3"
  },
  "language_info": {
   "codemirror_mode": {
    "name": "ipython",
    "version": 3
   },
   "file_extension": ".py",
   "mimetype": "text/x-python",
   "name": "python",
   "nbconvert_exporter": "python",
   "pygments_lexer": "ipython3",
   "version": "3.10.7"
  }
 },
 "nbformat": 4,
 "nbformat_minor": 5
}
